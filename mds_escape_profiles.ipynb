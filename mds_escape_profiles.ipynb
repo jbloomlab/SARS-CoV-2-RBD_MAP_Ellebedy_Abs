{
 "cells": [
  {
   "cell_type": "markdown",
   "metadata": {},
   "source": [
    "# Multidimensional scaling of antibody escape profiles\n",
    "This Python Jupyter notebook performs multi-dimensional scaling of escape profiles to project the antibodies into two dimensions based on similarity of their escape profiles."
   ]
  },
  {
   "cell_type": "markdown",
   "metadata": {},
   "source": [
    "## Set up analysis\n",
    "Import Python modules:"
   ]
  },
  {
   "cell_type": "code",
   "execution_count": 1,
   "metadata": {
    "execution": {
     "iopub.execute_input": "2020-09-25T16:55:06.417240Z",
     "iopub.status.busy": "2020-09-25T16:55:06.416837Z",
     "iopub.status.idle": "2020-09-25T16:55:10.500868Z",
     "shell.execute_reply": "2020-09-25T16:55:10.500370Z"
    }
   },
   "outputs": [],
   "source": [
    "import itertools\n",
    "import os\n",
    "\n",
    "import adjustText\n",
    "\n",
    "from dms_variants.constants import CBPALETTE\n",
    "\n",
    "from IPython.display import display, HTML\n",
    "\n",
    "import matplotlib\n",
    "import matplotlib.pyplot as plt\n",
    "\n",
    "import numpy\n",
    "\n",
    "import pandas as pd\n",
    "\n",
    "import seaborn\n",
    "\n",
    "import sklearn.manifold\n",
    "\n",
    "import yaml"
   ]
  },
  {
   "cell_type": "markdown",
   "metadata": {},
   "source": [
    "Read the configuration file:"
   ]
  },
  {
   "cell_type": "code",
   "execution_count": 2,
   "metadata": {
    "execution": {
     "iopub.execute_input": "2020-09-25T16:55:10.503538Z",
     "iopub.status.busy": "2020-09-25T16:55:10.503154Z",
     "iopub.status.idle": "2020-09-25T16:55:10.524481Z",
     "shell.execute_reply": "2020-09-25T16:55:10.524071Z"
    }
   },
   "outputs": [],
   "source": [
    "with open('config.yaml') as f:\n",
    "    config = yaml.safe_load(f)"
   ]
  },
  {
   "cell_type": "markdown",
   "metadata": {},
   "source": [
    "Create output directory:"
   ]
  },
  {
   "cell_type": "code",
   "execution_count": 3,
   "metadata": {
    "execution": {
     "iopub.execute_input": "2020-09-25T16:55:10.527150Z",
     "iopub.status.busy": "2020-09-25T16:55:10.526761Z",
     "iopub.status.idle": "2020-09-25T16:55:10.529705Z",
     "shell.execute_reply": "2020-09-25T16:55:10.529367Z"
    }
   },
   "outputs": [],
   "source": [
    "os.makedirs(config['escape_profiles_dir'], exist_ok=True)"
   ]
  },
  {
   "cell_type": "markdown",
   "metadata": {},
   "source": [
    "Extract from configuration what we will use as the site- and mutation-level metrics:"
   ]
  },
  {
   "cell_type": "code",
   "execution_count": 4,
   "metadata": {
    "execution": {
     "iopub.execute_input": "2020-09-25T16:55:10.533100Z",
     "iopub.status.busy": "2020-09-25T16:55:10.532700Z",
     "iopub.status.idle": "2020-09-25T16:55:10.535978Z",
     "shell.execute_reply": "2020-09-25T16:55:10.535643Z"
    }
   },
   "outputs": [
    {
     "name": "stdout",
     "output_type": "stream",
     "text": [
      "At site level, quantifying selection by site_total_escape_frac_epistasis_model\n",
      "At mutation level, quantify selection by mut_escape_frac_epistasis_model\n"
     ]
    }
   ],
   "source": [
    "site_metric = config['site_metric']\n",
    "mut_metric = config['mut_metric']\n",
    "\n",
    "print(f\"At site level, quantifying selection by {site_metric}\")\n",
    "print(f\"At mutation level, quantify selection by {mut_metric}\")"
   ]
  },
  {
   "cell_type": "markdown",
   "metadata": {},
   "source": [
    "## Read samples and escape fractions\n",
    "Read the escape fractions.\n",
    "We only retain the **average** of the libraries for plotting here, not the individual libraries.\n",
    "Also, we work in the full-Spike rather than RBD numbering, which means we use `label_site` as `site` (and so rename as such below):"
   ]
  },
  {
   "cell_type": "code",
   "execution_count": 5,
   "metadata": {
    "execution": {
     "iopub.execute_input": "2020-09-25T16:55:10.539440Z",
     "iopub.status.busy": "2020-09-25T16:55:10.539043Z",
     "iopub.status.idle": "2020-09-25T16:55:10.638078Z",
     "shell.execute_reply": "2020-09-25T16:55:10.638596Z"
    }
   },
   "outputs": [
    {
     "name": "stdout",
     "output_type": "stream",
     "text": [
      "Reading escape fractions from results/escape_scores/escape_fracs.csv\n",
      "First few lines of escape-fraction data frame:\n"
     ]
    },
    {
     "data": {
      "text/html": [
       "<table border=\"1\" class=\"dataframe\">\n",
       "  <thead>\n",
       "    <tr style=\"text-align: right;\">\n",
       "      <th>condition</th>\n",
       "      <th>site</th>\n",
       "      <th>wildtype</th>\n",
       "      <th>mutation</th>\n",
       "      <th>protein_chain</th>\n",
       "      <th>protein_site</th>\n",
       "      <th>mut_escape_frac_epistasis_model</th>\n",
       "      <th>mut_escape_frac_single_mut</th>\n",
       "      <th>site_total_escape_frac_epistasis_model</th>\n",
       "      <th>site_total_escape_frac_single_mut</th>\n",
       "      <th>site_avg_escape_frac_epistasis_model</th>\n",
       "      <th>site_avg_escape_frac_single_mut</th>\n",
       "      <th>nlibs</th>\n",
       "    </tr>\n",
       "  </thead>\n",
       "  <tbody>\n",
       "    <tr>\n",
       "      <td>2B04_400</td>\n",
       "      <td>331</td>\n",
       "      <td>N</td>\n",
       "      <td>A</td>\n",
       "      <td>E</td>\n",
       "      <td>331</td>\n",
       "      <td>0.001161</td>\n",
       "      <td>0.000603</td>\n",
       "      <td>0.05265</td>\n",
       "      <td>0.06513</td>\n",
       "      <td>0.002771</td>\n",
       "      <td>0.003428</td>\n",
       "      <td>2</td>\n",
       "    </tr>\n",
       "    <tr>\n",
       "      <td>2B04_400</td>\n",
       "      <td>331</td>\n",
       "      <td>N</td>\n",
       "      <td>C</td>\n",
       "      <td>E</td>\n",
       "      <td>331</td>\n",
       "      <td>0.001007</td>\n",
       "      <td>0.002096</td>\n",
       "      <td>0.05265</td>\n",
       "      <td>0.06513</td>\n",
       "      <td>0.002771</td>\n",
       "      <td>0.003428</td>\n",
       "      <td>2</td>\n",
       "    </tr>\n",
       "    <tr>\n",
       "      <td>2B04_400</td>\n",
       "      <td>331</td>\n",
       "      <td>N</td>\n",
       "      <td>D</td>\n",
       "      <td>E</td>\n",
       "      <td>331</td>\n",
       "      <td>0.001007</td>\n",
       "      <td>0.001018</td>\n",
       "      <td>0.05265</td>\n",
       "      <td>0.06513</td>\n",
       "      <td>0.002771</td>\n",
       "      <td>0.003428</td>\n",
       "      <td>2</td>\n",
       "    </tr>\n",
       "    <tr>\n",
       "      <td>2B04_400</td>\n",
       "      <td>331</td>\n",
       "      <td>N</td>\n",
       "      <td>E</td>\n",
       "      <td>E</td>\n",
       "      <td>331</td>\n",
       "      <td>0.001067</td>\n",
       "      <td>0.001079</td>\n",
       "      <td>0.05265</td>\n",
       "      <td>0.06513</td>\n",
       "      <td>0.002771</td>\n",
       "      <td>0.003428</td>\n",
       "      <td>2</td>\n",
       "    </tr>\n",
       "    <tr>\n",
       "      <td>2B04_400</td>\n",
       "      <td>331</td>\n",
       "      <td>N</td>\n",
       "      <td>F</td>\n",
       "      <td>E</td>\n",
       "      <td>331</td>\n",
       "      <td>0.003066</td>\n",
       "      <td>0.001223</td>\n",
       "      <td>0.05265</td>\n",
       "      <td>0.06513</td>\n",
       "      <td>0.002771</td>\n",
       "      <td>0.003428</td>\n",
       "      <td>2</td>\n",
       "    </tr>\n",
       "  </tbody>\n",
       "</table>"
      ],
      "text/plain": [
       "<IPython.core.display.HTML object>"
      ]
     },
     "metadata": {},
     "output_type": "display_data"
    }
   ],
   "source": [
    "print(f\"Reading escape fractions from {config['escape_fracs']}\")\n",
    "escape_fracs = (pd.read_csv(config['escape_fracs'])\n",
    "                .query('library == \"average\"')\n",
    "                .drop(columns=['site', 'selection', 'library'])\n",
    "                .rename(columns={'label_site': 'site'})\n",
    "                )\n",
    "print('First few lines of escape-fraction data frame:')\n",
    "display(HTML(escape_fracs.head().to_html(index=False)))"
   ]
  },
  {
   "cell_type": "markdown",
   "metadata": {},
   "source": [
    "## Get antibody sets for each multidimensional scaling\n",
    "We have manually specified configurations for escape profiles in a YAML file.\n",
    "We will do multi-dimensional scaling for each of these profiles:"
   ]
  },
  {
   "cell_type": "code",
   "execution_count": 6,
   "metadata": {
    "execution": {
     "iopub.execute_input": "2020-09-25T16:55:10.641192Z",
     "iopub.status.busy": "2020-09-25T16:55:10.640427Z",
     "iopub.status.idle": "2020-09-25T16:55:10.662745Z",
     "shell.execute_reply": "2020-09-25T16:55:10.662201Z"
    }
   },
   "outputs": [
    {
     "name": "stdout",
     "output_type": "stream",
     "text": [
      "Reading escape-profile configuration from data/escape_profiles_config.yaml\n",
      "Reading the site color schemes from data/site_color_schemes.csv\n"
     ]
    }
   ],
   "source": [
    "print(f\"Reading escape-profile configuration from {config['escape_profiles_config']}\")\n",
    "with open(config['escape_profiles_config']) as f:\n",
    "    escape_profiles_config = yaml.safe_load(f)\n",
    "    \n",
    "print(f\"Reading the site color schemes from {config['site_color_schemes']}\")\n",
    "site_color_schemes = pd.read_csv(config['site_color_schemes'])"
   ]
  },
  {
   "cell_type": "markdown",
   "metadata": {},
   "source": [
    "## Multidimensional scaling\n",
    "Note that there are three main steps here:\n",
    " 1. Calculate similarities between profiles of each antibody.\n",
    " 2. Convert similarities to dissimilarities.\n",
    " 3. Do multi-dimensional scaling and plot the results.\n",
    "\n",
    "First, define a function to compute the similarity between all pairs of escape profiles in a data frame.\n",
    "We calculate similarity as the dot product of the escape profiles for each pair of conditions, using the site-level metric and normalizing each profile so it's dot product with itself is one.\n",
    "Importantly, we raise the site-level metric to the $p$ power in order to emphasize sites with large values (essentially a p-norm):"
   ]
  },
  {
   "cell_type": "code",
   "execution_count": 7,
   "metadata": {
    "execution": {
     "iopub.execute_input": "2020-09-25T16:55:10.668288Z",
     "iopub.status.busy": "2020-09-25T16:55:10.667892Z",
     "iopub.status.idle": "2020-09-25T16:55:10.670147Z",
     "shell.execute_reply": "2020-09-25T16:55:10.670625Z"
    }
   },
   "outputs": [],
   "source": [
    "def escape_similarity(df, p=1):\n",
    "    \"\"\"Compute similarity between all pairs of conditions in `df`.\"\"\"\n",
    "    df = df[['condition', 'site', site_metric]].drop_duplicates()\n",
    "    assert not df.isnull().any().any()\n",
    "    \n",
    "    conditions = df['condition'].unique()\n",
    "    similarities = []\n",
    "    for cond1, cond2 in itertools.product(conditions, conditions):\n",
    "        similarity = (\n",
    "            df\n",
    "            .assign(metric=lambda x: x[site_metric]**p)\n",
    "            .pivot_table(index='site', columns='condition', values='metric')\n",
    "            [list({cond1, cond2})]\n",
    "            # for normalization: https://stackoverflow.com/a/58113206\n",
    "            # to get norm: https://stackoverflow.com/a/47953601\n",
    "            .transform(lambda x: x / numpy.linalg.norm(x, axis=0))\n",
    "            .assign(similarity=lambda x: x[cond1] * x[cond2])\n",
    "            ['similarity']\n",
    "            .sum()\n",
    "            )\n",
    "        similarities.append(similarity)\n",
    "    return pd.DataFrame(numpy.array(similarities).reshape(len(conditions), len(conditions)),\n",
    "                        columns=conditions, index=conditions)"
   ]
  },
  {
   "cell_type": "markdown",
   "metadata": {},
   "source": [
    "Define function to compute dissimilarity $d$ from the similarity $s$.\n",
    "Options are:\n",
    "  - **one_minus**: $d = 1 - s$\n",
    "  - **minus_log**: $d = -\\ln s$"
   ]
  },
  {
   "cell_type": "code",
   "execution_count": 8,
   "metadata": {
    "execution": {
     "iopub.execute_input": "2020-09-25T16:55:10.673014Z",
     "iopub.status.busy": "2020-09-25T16:55:10.672252Z",
     "iopub.status.idle": "2020-09-25T16:55:10.691471Z",
     "shell.execute_reply": "2020-09-25T16:55:10.690978Z"
    }
   },
   "outputs": [],
   "source": [
    "def dissimilarity(similarity, method='one_minus'):\n",
    "    if method == 'one_minus':\n",
    "        return 1 - similarity\n",
    "    elif method == 'minus_log':\n",
    "        return -numpy.log(similarity)\n",
    "    else:\n",
    "        raise ValueError(f\"invalid `method` {method}\")"
   ]
  },
  {
   "cell_type": "markdown",
   "metadata": {},
   "source": [
    "Now compute the similarities and dissimilarities, and do the multidimensional scaling [as described here](https://scikit-learn.org/stable/auto_examples/manifold/plot_mds.html#sphx-glr-auto-examples-manifold-plot-mds-py).\n",
    "We do this just for the antibody combinations for which such a plot is specified in the escape profiles configuration file.\n",
    "We then plot the multidimensional scaling, using [adjustTexts](https://adjusttext.readthedocs.io/) to repel the labels and following [here](https://stackoverflow.com/q/56337732) to draw pie charts that color the points according to the site-coloring scheme if specified in configuration.\n",
    "These pie charts color by the fraction of the squared site escape apportioned to each site category."
   ]
  },
  {
   "cell_type": "code",
   "execution_count": 9,
   "metadata": {
    "execution": {
     "iopub.execute_input": "2020-09-25T16:55:10.704106Z",
     "iopub.status.busy": "2020-09-25T16:55:10.703678Z",
     "iopub.status.idle": "2020-09-25T16:55:10.718586Z",
     "shell.execute_reply": "2020-09-25T16:55:10.718904Z"
    }
   },
   "outputs": [],
   "source": [
    "# which method do we use to compute dissimilarity?\n",
    "dissimilarity_method = 'one_minus'\n",
    "\n",
    "# parameterize visual appearance / prettiness for this plot\n",
    "random_state=4\n",
    "pie_size=300\n",
    "alpha=0.7\n",
    "expand_points=(1.3, 1.7)\n",
    "\n",
    "# function to draw colored pie for each point.\n",
    "def draw_pie(dist, xpos, ypos, size, ax, colors):\n",
    "    \"\"\"Based on this: https://stackoverflow.com/q/56337732\"\"\"\n",
    "    # for incremental pie slices\n",
    "    cumsum = numpy.cumsum(dist)\n",
    "    cumsum = cumsum / cumsum[-1]\n",
    "    pie = [0] + cumsum.tolist()\n",
    "\n",
    "    assert len(colors) == len(dist)\n",
    "    for r1, r2, color in zip(pie[:-1], pie[1:], colors):\n",
    "        angles = numpy.linspace(2 * numpy.pi * r1, 2 * numpy.pi * r2)\n",
    "        x = [0] + numpy.cos(angles).tolist()\n",
    "        y = [0] + numpy.sin(angles).tolist()\n",
    "\n",
    "        xy = numpy.column_stack([x, y])\n",
    "\n",
    "        ax.scatter([xpos], [ypos], marker=xy, s=size, color=color, alpha=alpha)\n",
    "\n",
    "    return ax\n",
    "\n",
    "# loop over combinations to plot\n",
    "for name, specs in escape_profiles_config.items():\n",
    "    \n",
    "    # do we make a plot for this set of antibodies according to escape profile config\n",
    "    if 'mds' not in specs or not specs['mds']:\n",
    "        continue\n",
    "    \n",
    "    # get data frame with just the conditions we want to plot, also re-naming them\n",
    "    conditions_to_plot = list(specs['conditions'].keys())\n",
    "    print(f\"\\nMaking plot {name}, which has the following antibodies:\\n{conditions_to_plot}\")\n",
    "    assert len(conditions_to_plot) == len(set(specs['conditions'].values()))\n",
    "    assert set(conditions_to_plot).issubset(set(escape_fracs['condition']))\n",
    "    df = (escape_fracs\n",
    "          .query('condition in @conditions_to_plot')\n",
    "          .assign(condition=lambda x: x['condition'].map(specs['conditions']))\n",
    "          )\n",
    "    \n",
    "    # compute similarities and dissimilarities\n",
    "    similarities = escape_similarity(df)\n",
    "    dissimilarities = similarities.applymap(lambda x: dissimilarity(x, method=dissimilarity_method))\n",
    "    \n",
    "    # plot similarities and dissimilarities\n",
    "    conditions = df['condition'].unique()\n",
    "    assert all(conditions == similarities.columns) and all(conditions == similarities.index)\n",
    "    n = len(conditions)\n",
    "    for title, data in [('Similarities', similarities), ('Dissimilarities', dissimilarities)]:\n",
    "        fig, ax = plt.subplots(figsize=(0.8 * n, 0.7 * n))\n",
    "        _ = seaborn.heatmap(data, annot=True, ax=ax)\n",
    "        plt.title(f\"{title} for {name}\", size=16)\n",
    "        plt.show(fig)\n",
    "        plt.close(fig)\n",
    "    \n",
    "    # use multidimensional scaling to get locations of antibodies\n",
    "    mds = sklearn.manifold.MDS(n_components=2,\n",
    "                               metric=True,\n",
    "                               max_iter=3000,\n",
    "                               eps=1e-6,\n",
    "                               random_state=random_state,\n",
    "                               dissimilarity='precomputed',\n",
    "                               n_jobs=1)\n",
    "    locs = mds.fit_transform(dissimilarities)\n",
    "    \n",
    "    # get the colors for each point if relevant\n",
    "    if 'mds_color_by_site' in specs and specs['mds_color_by_site']:\n",
    "        assert 'site_color_scheme' in specs, 'no site-color scheme specified'\n",
    "        site_colors = site_color_schemes.set_index('site')[specs['site_color_scheme']].to_dict()\n",
    "        df = df.assign(color=lambda x: x['site'].map(site_colors))\n",
    "        dists = []\n",
    "        colors = []\n",
    "        for condition, condition_df in (\n",
    "                df\n",
    "                [['condition', 'color', 'site', site_metric]]\n",
    "                .drop_duplicates()\n",
    "                .assign(site_metric2=lambda x: x[site_metric]**2)  # color in proportion to **square** of site escape\n",
    "                .groupby(['condition', 'color'])\n",
    "                .aggregate(tot_escape=pd.NamedAgg('site_metric2', 'sum'))\n",
    "                .reset_index()\n",
    "                .sort_values('tot_escape', ascending=False)\n",
    "                .assign(condition=lambda x: pd.Categorical(x['condition'], conditions, ordered=True))\n",
    "                .groupby('condition', sort=True)\n",
    "                ):\n",
    "            dists.append(condition_df['tot_escape'].tolist())\n",
    "            colors.append(condition_df['color'].tolist())\n",
    "    else:\n",
    "        dists = [[1] for conditition in conditions]\n",
    "        colors = [['#1f77b4'] for condition in conditions]\n",
    "    \n",
    "    # plot the multidimensional scaling result\n",
    "    fig, ax = plt.subplots(figsize=(4, 4))\n",
    "    xs = locs[:, 0]\n",
    "    ys = locs[:, 1]\n",
    "    for x, y, dist, color in zip(xs, ys, dists, colors):\n",
    "        draw_pie(dist, x, y, size=pie_size, ax=ax, colors=color)\n",
    "    ax.set_aspect('equal', adjustable='box')  # same distance on both axes\n",
    "    ax.set_xticks([])  # no x-ticks\n",
    "    ax.set_yticks([])  # no y-ticks\n",
    "    ax.margins(0.09)  # increase padding from axes\n",
    "    texts = [plt.text(x, y, label, color='black') for x, y, label in zip(xs, ys, conditions)]\n",
    "    adjustText.adjust_text(texts,\n",
    "                           x=xs,\n",
    "                           y=ys,\n",
    "                           expand_points=expand_points,\n",
    "                           )\n",
    "    plotfile = os.path.join(config['escape_profiles_dir'], f\"{name}_mds.pdf\")\n",
    "    print(f\"Saving plot to {plotfile}\")\n",
    "    fig.savefig(plotfile, bbox_inches='tight')\n",
    "    plt.show(fig)\n",
    "    plt.close(fig)"
   ]
  },
  {
   "cell_type": "code",
   "execution_count": null,
   "metadata": {},
   "outputs": [],
   "source": []
  }
 ],
 "metadata": {
  "kernelspec": {
   "display_name": "Python 3",
   "language": "python",
   "name": "python3"
  },
  "language_info": {
   "codemirror_mode": {
    "name": "ipython",
    "version": 3
   },
   "file_extension": ".py",
   "mimetype": "text/x-python",
   "name": "python",
   "nbconvert_exporter": "python",
   "pygments_lexer": "ipython3",
   "version": "3.7.8"
  }
 },
 "nbformat": 4,
 "nbformat_minor": 4
}
