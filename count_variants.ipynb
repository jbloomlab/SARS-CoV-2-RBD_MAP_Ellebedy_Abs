{
 "cells": [
  {
   "cell_type": "markdown",
   "metadata": {},
   "source": [
    "# Count variants in each sample\n",
    "This Python Jupyter notebook counts occurrences of each barcode in each sample from Illumina barcode sequencing, and adds these counts to the codon variant table."
   ]
  },
  {
   "cell_type": "markdown",
   "metadata": {},
   "source": [
    "## Set up analysis\n",
    "### Import Python modules.\n",
    "Use [plotnine](https://plotnine.readthedocs.io/en/stable/) for ggplot2-like plotting.\n",
    "\n",
    "The analysis relies heavily on the Bloom lab's [dms_variants](https://jbloomlab.github.io/dms_variants) package:"
   ]
  },
  {
   "cell_type": "code",
   "execution_count": 1,
   "metadata": {
    "execution": {
     "iopub.execute_input": "2020-09-25T16:11:59.755515Z",
     "iopub.status.busy": "2020-09-25T16:11:59.754960Z",
     "iopub.status.idle": "2020-09-25T16:12:18.016447Z",
     "shell.execute_reply": "2020-09-25T16:12:18.015300Z"
    }
   },
   "outputs": [],
   "source": [
    "import glob\n",
    "import itertools\n",
    "import math\n",
    "import multiprocessing\n",
    "import multiprocessing.pool\n",
    "import os\n",
    "import warnings\n",
    "\n",
    "import Bio.SeqIO\n",
    "\n",
    "import dms_variants.codonvarianttable\n",
    "from dms_variants.constants import CBPALETTE\n",
    "import dms_variants.illuminabarcodeparser\n",
    "import dms_variants.utils\n",
    "import dms_variants.plotnine_themes\n",
    "\n",
    "from IPython.display import display, HTML\n",
    "\n",
    "import pandas as pd\n",
    "\n",
    "from plotnine import *\n",
    "\n",
    "import yaml"
   ]
  },
  {
   "cell_type": "markdown",
   "metadata": {},
   "source": [
    "Set [plotnine](https://plotnine.readthedocs.io/en/stable/) theme to the gray-grid one defined in `dms_variants`:"
   ]
  },
  {
   "cell_type": "code",
   "execution_count": 2,
   "metadata": {
    "execution": {
     "iopub.execute_input": "2020-09-25T16:12:18.022841Z",
     "iopub.status.busy": "2020-09-25T16:12:18.021886Z",
     "iopub.status.idle": "2020-09-25T16:12:18.023744Z",
     "shell.execute_reply": "2020-09-25T16:12:18.024687Z"
    }
   },
   "outputs": [],
   "source": [
    "theme_set(dms_variants.plotnine_themes.theme_graygrid())"
   ]
  },
  {
   "cell_type": "markdown",
   "metadata": {},
   "source": [
    "Versions of key software:"
   ]
  },
  {
   "cell_type": "code",
   "execution_count": 3,
   "metadata": {
    "execution": {
     "iopub.execute_input": "2020-09-25T16:12:18.029895Z",
     "iopub.status.busy": "2020-09-25T16:12:18.028948Z",
     "iopub.status.idle": "2020-09-25T16:12:18.032334Z",
     "shell.execute_reply": "2020-09-25T16:12:18.032776Z"
    }
   },
   "outputs": [
    {
     "name": "stdout",
     "output_type": "stream",
     "text": [
      "Using dms_variants version 0.8.4\n"
     ]
    }
   ],
   "source": [
    "print(f\"Using dms_variants version {dms_variants.__version__}\")"
   ]
  },
  {
   "cell_type": "markdown",
   "metadata": {},
   "source": [
    "Ignore warnings that clutter output:"
   ]
  },
  {
   "cell_type": "code",
   "execution_count": 4,
   "metadata": {
    "execution": {
     "iopub.execute_input": "2020-09-25T16:12:18.037823Z",
     "iopub.status.busy": "2020-09-25T16:12:18.036835Z",
     "iopub.status.idle": "2020-09-25T16:12:18.038763Z",
     "shell.execute_reply": "2020-09-25T16:12:18.039738Z"
    }
   },
   "outputs": [],
   "source": [
    "warnings.simplefilter('ignore')"
   ]
  },
  {
   "cell_type": "markdown",
   "metadata": {},
   "source": [
    "### Parameters for notebook\n",
    "Read the configuration file:"
   ]
  },
  {
   "cell_type": "code",
   "execution_count": 5,
   "metadata": {
    "execution": {
     "iopub.execute_input": "2020-09-25T16:12:18.044840Z",
     "iopub.status.busy": "2020-09-25T16:12:18.044238Z",
     "iopub.status.idle": "2020-09-25T16:12:18.059796Z",
     "shell.execute_reply": "2020-09-25T16:12:18.060546Z"
    }
   },
   "outputs": [],
   "source": [
    "with open('config.yaml') as f:\n",
    "    config = yaml.safe_load(f)"
   ]
  },
  {
   "cell_type": "markdown",
   "metadata": {},
   "source": [
    "Make output directory if needed:"
   ]
  },
  {
   "cell_type": "code",
   "execution_count": 6,
   "metadata": {
    "execution": {
     "iopub.execute_input": "2020-09-25T16:12:18.064979Z",
     "iopub.status.busy": "2020-09-25T16:12:18.064067Z",
     "iopub.status.idle": "2020-09-25T16:12:18.066062Z",
     "shell.execute_reply": "2020-09-25T16:12:18.066944Z"
    }
   },
   "outputs": [],
   "source": [
    "os.makedirs(config['counts_dir'], exist_ok=True)"
   ]
  },
  {
   "cell_type": "markdown",
   "metadata": {},
   "source": [
    "## Initialize codon variant table\n",
    "Initialize the [CodonVariantTable](https://jbloomlab.github.io/dms_variants/dms_variants.codonvarianttable.html#dms_variants.codonvarianttable.CodonVariantTable) using the wildtype gene sequence and the CSV file with the table of variants:"
   ]
  },
  {
   "cell_type": "code",
   "execution_count": 7,
   "metadata": {
    "execution": {
     "iopub.execute_input": "2020-09-25T16:12:18.072875Z",
     "iopub.status.busy": "2020-09-25T16:12:18.072388Z",
     "iopub.status.idle": "2020-09-25T16:12:23.879515Z",
     "shell.execute_reply": "2020-09-25T16:12:23.878634Z"
    }
   },
   "outputs": [
    {
     "name": "stdout",
     "output_type": "stream",
     "text": [
      "Read sequence of 603 nt for SARS-CoV-2 from data/wildtype_sequence.fasta\n",
      "Initializing CodonVariantTable from gene sequence and results/prior_DMS_data/codon_variant_table.csv\n"
     ]
    }
   ],
   "source": [
    "wt_seqrecord = Bio.SeqIO.read(config['wildtype_sequence'], 'fasta')\n",
    "geneseq = str(wt_seqrecord.seq)\n",
    "primary_target = wt_seqrecord.name\n",
    "print(f\"Read sequence of {len(geneseq)} nt for {primary_target} from {config['wildtype_sequence']}\")\n",
    "      \n",
    "print(f\"Initializing CodonVariantTable from gene sequence and {config['codon_variant_table']}\")\n",
    "      \n",
    "variants = dms_variants.codonvarianttable.CodonVariantTable(\n",
    "                geneseq=geneseq,\n",
    "                barcode_variant_file=config['codon_variant_table'],\n",
    "                substitutions_are_codon=True,\n",
    "                substitutions_col='codon_substitutions',\n",
    "                primary_target=primary_target)"
   ]
  },
  {
   "cell_type": "markdown",
   "metadata": {},
   "source": [
    "## Setup to parse barcodes\n",
    "Read data frame with list of all barcode runs.\n",
    "Note how multiple R1 files are delimited by `; ` and are split out separately:"
   ]
  },
  {
   "cell_type": "code",
   "execution_count": 8,
   "metadata": {
    "execution": {
     "iopub.execute_input": "2020-09-25T16:12:23.923440Z",
     "iopub.status.busy": "2020-09-25T16:12:23.922432Z",
     "iopub.status.idle": "2020-09-25T16:12:24.459458Z",
     "shell.execute_reply": "2020-09-25T16:12:24.460461Z"
    }
   },
   "outputs": [
    {
     "name": "stdout",
     "output_type": "stream",
     "text": [
      "Reading list of barcode runs from data/barcode_runs.csv\n"
     ]
    },
    {
     "data": {
      "text/html": [
       "<table border=\"1\" class=\"dataframe\">\n",
       "  <thead>\n",
       "    <tr style=\"text-align: right;\">\n",
       "      <th>library</th>\n",
       "      <th>sample</th>\n",
       "      <th>date</th>\n",
       "      <th>experiment</th>\n",
       "      <th>antibody</th>\n",
       "      <th>concentration</th>\n",
       "      <th>concentration_units</th>\n",
       "      <th>group</th>\n",
       "      <th>selection</th>\n",
       "      <th>frac_escape</th>\n",
       "      <th>cells_sorted</th>\n",
       "      <th>R1</th>\n",
       "    </tr>\n",
       "  </thead>\n",
       "  <tbody>\n",
       "    <tr>\n",
       "      <td>lib1</td>\n",
       "      <td>expt_17-19-none-0-reference</td>\n",
       "      <td>200721</td>\n",
       "      <td>expt_17-19</td>\n",
       "      <td>none</td>\n",
       "      <td>0</td>\n",
       "      <td>ng_per_mL</td>\n",
       "      <td>none</td>\n",
       "      <td>reference</td>\n",
       "      <td>NaN</td>\n",
       "      <td>160000000.0</td>\n",
       "      <td>[/shared/ngs/illumina/agreaney/200727_D00300_1012_AHFFMGBCX3/Unaligned/Project_agreaney/Sample_expt_17-19_lib1_ref/expt_17-19_lib1_ref_ACAGCAGA_L002_R1_002.fastq.gz, /shared/ngs/illumina/agreaney/200727_D00300_1012_AHFFMGBCX3/Unaligned/Project_agreaney/Sample_expt_17-19_lib1_ref/expt_17-19_lib1_ref_ACAGCAGA_L002_R1_004.fastq.gz, /shared/ngs/illumina/agreaney/200727_D00300_1012_AHFFMGBCX3/Unaligned/Project_agreaney/Sample_expt_17-19_lib1_ref/expt_17-19_lib1_ref_ACAGCAGA_L001_R1_001.fastq.gz, /shared/ngs/illumina/agreaney/200727_D00300_1012_AHFFMGBCX3/Unaligned/Project_agreaney/Sample_expt_17-19_lib1_ref/expt_17-19_lib1_ref_ACAGCAGA_L001_R1_006.fastq.gz, /shared/ngs/illumina/agreaney/200727_D00300_1012_AHFFMGBCX3/Unaligned/Project_agreaney/Sample_expt_17-19_lib1_ref/expt_17-19_lib1_ref_ACAGCAGA_L002_R1_006.fastq.gz, /shared/ngs/illumina/agreaney/200727_D00300_1012_AHFFMGBCX3/Unaligned/Project_agreaney/Sample_expt_17-19_lib1_ref/expt_17-19_lib1_ref_ACAGCAGA_L001_R1_003.fastq.gz, /shared/ngs/illumina/agreaney/200727_D00300_1012_AHFFMGBCX3/Unaligned/Project_agreaney/Sample_expt_17-19_lib1_ref/expt_17-19_lib1_ref_ACAGCAGA_L002_R1_001.fastq.gz, /shared/ngs/illumina/agreaney/200727_D00300_1012_AHFFMGBCX3/Unaligned/Project_agreaney/Sample_expt_17-19_lib1_ref/expt_17-19_lib1_ref_ACAGCAGA_L001_R1_002.fastq.gz, /shared/ngs/illumina/agreaney/200727_D00300_1012_AHFFMGBCX3/Unaligned/Project_agreaney/Sample_expt_17-19_lib1_ref/expt_17-19_lib1_ref_ACAGCAGA_L001_R1_005.fastq.gz, /shared/ngs/illumina/agreaney/200727_D00300_1012_AHFFMGBCX3/Unaligned/Project_agreaney/Sample_expt_17-19_lib1_ref/expt_17-19_lib1_ref_ACAGCAGA_L002_R1_005.fastq.gz, /shared/ngs/illumina/agreaney/200727_D00300_1012_AHFFMGBCX3/Unaligned/Project_agreaney/Sample_expt_17-19_lib1_ref/expt_17-19_lib1_ref_ACAGCAGA_L002_R1_003.fastq.gz, /shared/ngs/illumina/agreaney/200727_D00300_1012_AHFFMGBCX3/Unaligned/Project_agreaney/Sample_expt_17-19_lib1_ref/expt_17-19_lib1_ref_ACAGCAGA_L001_R1_004.fastq.gz]</td>\n",
       "    </tr>\n",
       "    <tr>\n",
       "      <td>lib2</td>\n",
       "      <td>expt_17-19-none-0-reference</td>\n",
       "      <td>200721</td>\n",
       "      <td>expt_17-19</td>\n",
       "      <td>none</td>\n",
       "      <td>0</td>\n",
       "      <td>ng_per_mL</td>\n",
       "      <td>none</td>\n",
       "      <td>reference</td>\n",
       "      <td>NaN</td>\n",
       "      <td>160000000.0</td>\n",
       "      <td>[/shared/ngs/illumina/agreaney/200727_D00300_1012_AHFFMGBCX3/Unaligned/Project_agreaney/Sample_expt_17-19_lib2_ref/expt_17-19_lib2_ref_ACCTCCAA_L001_R1_006.fastq.gz, /shared/ngs/illumina/agreaney/200727_D00300_1012_AHFFMGBCX3/Unaligned/Project_agreaney/Sample_expt_17-19_lib2_ref/expt_17-19_lib2_ref_ACCTCCAA_L001_R1_005.fastq.gz, /shared/ngs/illumina/agreaney/200727_D00300_1012_AHFFMGBCX3/Unaligned/Project_agreaney/Sample_expt_17-19_lib2_ref/expt_17-19_lib2_ref_ACCTCCAA_L002_R1_002.fastq.gz, /shared/ngs/illumina/agreaney/200727_D00300_1012_AHFFMGBCX3/Unaligned/Project_agreaney/Sample_expt_17-19_lib2_ref/expt_17-19_lib2_ref_ACCTCCAA_L001_R1_003.fastq.gz, /shared/ngs/illumina/agreaney/200727_D00300_1012_AHFFMGBCX3/Unaligned/Project_agreaney/Sample_expt_17-19_lib2_ref/expt_17-19_lib2_ref_ACCTCCAA_L002_R1_001.fastq.gz, /shared/ngs/illumina/agreaney/200727_D00300_1012_AHFFMGBCX3/Unaligned/Project_agreaney/Sample_expt_17-19_lib2_ref/expt_17-19_lib2_ref_ACCTCCAA_L001_R1_002.fastq.gz, /shared/ngs/illumina/agreaney/200727_D00300_1012_AHFFMGBCX3/Unaligned/Project_agreaney/Sample_expt_17-19_lib2_ref/expt_17-19_lib2_ref_ACCTCCAA_L002_R1_006.fastq.gz, /shared/ngs/illumina/agreaney/200727_D00300_1012_AHFFMGBCX3/Unaligned/Project_agreaney/Sample_expt_17-19_lib2_ref/expt_17-19_lib2_ref_ACCTCCAA_L001_R1_004.fastq.gz, /shared/ngs/illumina/agreaney/200727_D00300_1012_AHFFMGBCX3/Unaligned/Project_agreaney/Sample_expt_17-19_lib2_ref/expt_17-19_lib2_ref_ACCTCCAA_L002_R1_005.fastq.gz, /shared/ngs/illumina/agreaney/200727_D00300_1012_AHFFMGBCX3/Unaligned/Project_agreaney/Sample_expt_17-19_lib2_ref/expt_17-19_lib2_ref_ACCTCCAA_L001_R1_001.fastq.gz, /shared/ngs/illumina/agreaney/200727_D00300_1012_AHFFMGBCX3/Unaligned/Project_agreaney/Sample_expt_17-19_lib2_ref/expt_17-19_lib2_ref_ACCTCCAA_L002_R1_004.fastq.gz, /shared/ngs/illumina/agreaney/200727_D00300_1012_AHFFMGBCX3/Unaligned/Project_agreaney/Sample_expt_17-19_lib2_ref/expt_17-19_lib2_ref_ACCTCCAA_L002_R1_003.fastq.gz]</td>\n",
       "    </tr>\n",
       "    <tr>\n",
       "      <td>lib1</td>\n",
       "      <td>expt_3-6-none-0-reference</td>\n",
       "      <td>200615</td>\n",
       "      <td>expt_3-6</td>\n",
       "      <td>none</td>\n",
       "      <td>0</td>\n",
       "      <td>ng_per_mL</td>\n",
       "      <td>none</td>\n",
       "      <td>reference</td>\n",
       "      <td>NaN</td>\n",
       "      <td>160000000.0</td>\n",
       "      <td>[/shared/ngs/illumina/agreaney/200618_D00300_0980_AHFCMJBCX3/Unaligned/Project_agreaney/Sample_expt_3-6_lib1_ACE2pos/expt_3-6_lib1_ACE2pos_AGAGTCAA_L001_R1_004.fastq.gz, /shared/ngs/illumina/agreaney/200618_D00300_0980_AHFCMJBCX3/Unaligned/Project_agreaney/Sample_expt_3-6_lib1_ACE2pos/expt_3-6_lib1_ACE2pos_AGAGTCAA_L001_R1_008.fastq.gz, /shared/ngs/illumina/agreaney/200618_D00300_0980_AHFCMJBCX3/Unaligned/Project_agreaney/Sample_expt_3-6_lib1_ACE2pos/expt_3-6_lib1_ACE2pos_AGAGTCAA_L002_R1_004.fastq.gz, /shared/ngs/illumina/agreaney/200618_D00300_0980_AHFCMJBCX3/Unaligned/Project_agreaney/Sample_expt_3-6_lib1_ACE2pos/expt_3-6_lib1_ACE2pos_AGAGTCAA_L002_R1_005.fastq.gz, /shared/ngs/illumina/agreaney/200618_D00300_0980_AHFCMJBCX3/Unaligned/Project_agreaney/Sample_expt_3-6_lib1_ACE2pos/expt_3-6_lib1_ACE2pos_AGAGTCAA_L001_R1_005.fastq.gz, /shared/ngs/illumina/agreaney/200618_D00300_0980_AHFCMJBCX3/Unaligned/Project_agreaney/Sample_expt_3-6_lib1_ACE2pos/expt_3-6_lib1_ACE2pos_AGAGTCAA_L001_R1_006.fastq.gz, /shared/ngs/illumina/agreaney/200618_D00300_0980_AHFCMJBCX3/Unaligned/Project_agreaney/Sample_expt_3-6_lib1_ACE2pos/expt_3-6_lib1_ACE2pos_AGAGTCAA_L002_R1_002.fastq.gz, /shared/ngs/illumina/agreaney/200618_D00300_0980_AHFCMJBCX3/Unaligned/Project_agreaney/Sample_expt_3-6_lib1_ACE2pos/expt_3-6_lib1_ACE2pos_AGAGTCAA_L001_R1_001.fastq.gz, /shared/ngs/illumina/agreaney/200618_D00300_0980_AHFCMJBCX3/Unaligned/Project_agreaney/Sample_expt_3-6_lib1_ACE2pos/expt_3-6_lib1_ACE2pos_AGAGTCAA_L002_R1_006.fastq.gz, /shared/ngs/illumina/agreaney/200618_D00300_0980_AHFCMJBCX3/Unaligned/Project_agreaney/Sample_expt_3-6_lib1_ACE2pos/expt_3-6_lib1_ACE2pos_AGAGTCAA_L001_R1_002.fastq.gz, /shared/ngs/illumina/agreaney/200618_D00300_0980_AHFCMJBCX3/Unaligned/Project_agreaney/Sample_expt_3-6_lib1_ACE2pos/expt_3-6_lib1_ACE2pos_AGAGTCAA_L001_R1_007.fastq.gz, /shared/ngs/illumina/agreaney/200618_D00300_0980_AHFCMJBCX3/Unaligned/Project_agreaney/Sample_expt_3-6_lib1_ACE2pos/expt_3-6_lib1_ACE2pos_AGAGTCAA_L001_R1_003.fastq.gz, /shared/ngs/illumina/agreaney/200618_D00300_0980_AHFCMJBCX3/Unaligned/Project_agreaney/Sample_expt_3-6_lib1_ACE2pos/expt_3-6_lib1_ACE2pos_AGAGTCAA_L002_R1_007.fastq.gz, /shared/ngs/illumina/agreaney/200618_D00300_0980_AHFCMJBCX3/Unaligned/Project_agreaney/Sample_expt_3-6_lib1_ACE2pos/expt_3-6_lib1_ACE2pos_AGAGTCAA_L002_R1_003.fastq.gz, /shared/ngs/illumina/agreaney/200618_D00300_0980_AHFCMJBCX3/Unaligned/Project_agreaney/Sample_expt_3-6_lib1_ACE2pos/expt_3-6_lib1_ACE2pos_AGAGTCAA_L002_R1_008.fastq.gz, /shared/ngs/illumina/agreaney/200618_D00300_0980_AHFCMJBCX3/Unaligned/Project_agreaney/Sample_expt_3-6_lib1_ACE2pos/expt_3-6_lib1_ACE2pos_AGAGTCAA_L002_R1_001.fastq.gz]</td>\n",
       "    </tr>\n",
       "    <tr>\n",
       "      <td>lib2</td>\n",
       "      <td>expt_3-6-none-0-reference</td>\n",
       "      <td>200615</td>\n",
       "      <td>expt_3-6</td>\n",
       "      <td>none</td>\n",
       "      <td>0</td>\n",
       "      <td>ng_per_mL</td>\n",
       "      <td>none</td>\n",
       "      <td>reference</td>\n",
       "      <td>NaN</td>\n",
       "      <td>160000000.0</td>\n",
       "      <td>[/shared/ngs/illumina/agreaney/200618_D00300_0980_AHFCMJBCX3/Unaligned/Project_agreaney/Sample_expt_3-6_lib2_ACE2pos/expt_3-6_lib2_ACE2pos_AGATCGCA_L002_R1_002.fastq.gz, /shared/ngs/illumina/agreaney/200618_D00300_0980_AHFCMJBCX3/Unaligned/Project_agreaney/Sample_expt_3-6_lib2_ACE2pos/expt_3-6_lib2_ACE2pos_AGATCGCA_L002_R1_007.fastq.gz, /shared/ngs/illumina/agreaney/200618_D00300_0980_AHFCMJBCX3/Unaligned/Project_agreaney/Sample_expt_3-6_lib2_ACE2pos/expt_3-6_lib2_ACE2pos_AGATCGCA_L002_R1_008.fastq.gz, /shared/ngs/illumina/agreaney/200618_D00300_0980_AHFCMJBCX3/Unaligned/Project_agreaney/Sample_expt_3-6_lib2_ACE2pos/expt_3-6_lib2_ACE2pos_AGATCGCA_L001_R1_007.fastq.gz, /shared/ngs/illumina/agreaney/200618_D00300_0980_AHFCMJBCX3/Unaligned/Project_agreaney/Sample_expt_3-6_lib2_ACE2pos/expt_3-6_lib2_ACE2pos_AGATCGCA_L002_R1_001.fastq.gz, /shared/ngs/illumina/agreaney/200618_D00300_0980_AHFCMJBCX3/Unaligned/Project_agreaney/Sample_expt_3-6_lib2_ACE2pos/expt_3-6_lib2_ACE2pos_AGATCGCA_L001_R1_001.fastq.gz, /shared/ngs/illumina/agreaney/200618_D00300_0980_AHFCMJBCX3/Unaligned/Project_agreaney/Sample_expt_3-6_lib2_ACE2pos/expt_3-6_lib2_ACE2pos_AGATCGCA_L001_R1_004.fastq.gz, /shared/ngs/illumina/agreaney/200618_D00300_0980_AHFCMJBCX3/Unaligned/Project_agreaney/Sample_expt_3-6_lib2_ACE2pos/expt_3-6_lib2_ACE2pos_AGATCGCA_L001_R1_008.fastq.gz, /shared/ngs/illumina/agreaney/200618_D00300_0980_AHFCMJBCX3/Unaligned/Project_agreaney/Sample_expt_3-6_lib2_ACE2pos/expt_3-6_lib2_ACE2pos_AGATCGCA_L002_R1_006.fastq.gz, /shared/ngs/illumina/agreaney/200618_D00300_0980_AHFCMJBCX3/Unaligned/Project_agreaney/Sample_expt_3-6_lib2_ACE2pos/expt_3-6_lib2_ACE2pos_AGATCGCA_L002_R1_003.fastq.gz, /shared/ngs/illumina/agreaney/200618_D00300_0980_AHFCMJBCX3/Unaligned/Project_agreaney/Sample_expt_3-6_lib2_ACE2pos/expt_3-6_lib2_ACE2pos_AGATCGCA_L001_R1_006.fastq.gz, /shared/ngs/illumina/agreaney/200618_D00300_0980_AHFCMJBCX3/Unaligned/Project_agreaney/Sample_expt_3-6_lib2_ACE2pos/expt_3-6_lib2_ACE2pos_AGATCGCA_L001_R1_005.fastq.gz, /shared/ngs/illumina/agreaney/200618_D00300_0980_AHFCMJBCX3/Unaligned/Project_agreaney/Sample_expt_3-6_lib2_ACE2pos/expt_3-6_lib2_ACE2pos_AGATCGCA_L001_R1_003.fastq.gz, /shared/ngs/illumina/agreaney/200618_D00300_0980_AHFCMJBCX3/Unaligned/Project_agreaney/Sample_expt_3-6_lib2_ACE2pos/expt_3-6_lib2_ACE2pos_AGATCGCA_L001_R1_002.fastq.gz, /shared/ngs/illumina/agreaney/200618_D00300_0980_AHFCMJBCX3/Unaligned/Project_agreaney/Sample_expt_3-6_lib2_ACE2pos/expt_3-6_lib2_ACE2pos_AGATCGCA_L002_R1_004.fastq.gz, /shared/ngs/illumina/agreaney/200618_D00300_0980_AHFCMJBCX3/Unaligned/Project_agreaney/Sample_expt_3-6_lib2_ACE2pos/expt_3-6_lib2_ACE2pos_AGATCGCA_L002_R1_005.fastq.gz]</td>\n",
       "    </tr>\n",
       "    <tr>\n",
       "      <td>lib1</td>\n",
       "      <td>expt_22-23-none-0-reference</td>\n",
       "      <td>200810</td>\n",
       "      <td>expt_22-23</td>\n",
       "      <td>none</td>\n",
       "      <td>0</td>\n",
       "      <td>ng_per_mL</td>\n",
       "      <td>none</td>\n",
       "      <td>reference</td>\n",
       "      <td>NaN</td>\n",
       "      <td>160000000.0</td>\n",
       "      <td>[/shared/ngs/illumina/agreaney/200812_D00300_1026_BHFFJTBCX3/Unaligned/Project_agreaney/Sample_expt_22-23_lib1_ref/expt_22-23_lib1_ref_ACCACTGT_L001_R1_017.fastq.gz, /shared/ngs/illumina/agreaney/200812_D00300_1026_BHFFJTBCX3/Unaligned/Project_agreaney/Sample_expt_22-23_lib1_ref/expt_22-23_lib1_ref_ACCACTGT_L002_R1_007.fastq.gz, /shared/ngs/illumina/agreaney/200812_D00300_1026_BHFFJTBCX3/Unaligned/Project_agreaney/Sample_expt_22-23_lib1_ref/expt_22-23_lib1_ref_ACCACTGT_L002_R1_003.fastq.gz, /shared/ngs/illumina/agreaney/200812_D00300_1026_BHFFJTBCX3/Unaligned/Project_agreaney/Sample_expt_22-23_lib1_ref/expt_22-23_lib1_ref_ACCACTGT_L001_R1_010.fastq.gz, /shared/ngs/illumina/agreaney/200812_D00300_1026_BHFFJTBCX3/Unaligned/Project_agreaney/Sample_expt_22-23_lib1_ref/expt_22-23_lib1_ref_ACCACTGT_L001_R1_005.fastq.gz, /shared/ngs/illumina/agreaney/200812_D00300_1026_BHFFJTBCX3/Unaligned/Project_agreaney/Sample_expt_22-23_lib1_ref/expt_22-23_lib1_ref_ACCACTGT_L002_R1_012.fastq.gz, /shared/ngs/illumina/agreaney/200812_D00300_1026_BHFFJTBCX3/Unaligned/Project_agreaney/Sample_expt_22-23_lib1_ref/expt_22-23_lib1_ref_ACCACTGT_L002_R1_006.fastq.gz, /shared/ngs/illumina/agreaney/200812_D00300_1026_BHFFJTBCX3/Unaligned/Project_agreaney/Sample_expt_22-23_lib1_ref/expt_22-23_lib1_ref_ACCACTGT_L001_R1_009.fastq.gz, /shared/ngs/illumina/agreaney/200812_D00300_1026_BHFFJTBCX3/Unaligned/Project_agreaney/Sample_expt_22-23_lib1_ref/expt_22-23_lib1_ref_ACCACTGT_L001_R1_013.fastq.gz, /shared/ngs/illumina/agreaney/200812_D00300_1026_BHFFJTBCX3/Unaligned/Project_agreaney/Sample_expt_22-23_lib1_ref/expt_22-23_lib1_ref_ACCACTGT_L002_R1_008.fastq.gz, /shared/ngs/illumina/agreaney/200812_D00300_1026_BHFFJTBCX3/Unaligned/Project_agreaney/Sample_expt_22-23_lib1_ref/expt_22-23_lib1_ref_ACCACTGT_L001_R1_006.fastq.gz, /shared/ngs/illumina/agreaney/200812_D00300_1026_BHFFJTBCX3/Unaligned/Project_agreaney/Sample_expt_22-23_lib1_ref/expt_22-23_lib1_ref_ACCACTGT_L001_R1_003.fastq.gz, /shared/ngs/illumina/agreaney/200812_D00300_1026_BHFFJTBCX3/Unaligned/Project_agreaney/Sample_expt_22-23_lib1_ref/expt_22-23_lib1_ref_ACCACTGT_L001_R1_016.fastq.gz, /shared/ngs/illumina/agreaney/200812_D00300_1026_BHFFJTBCX3/Unaligned/Project_agreaney/Sample_expt_22-23_lib1_ref/expt_22-23_lib1_ref_ACCACTGT_L002_R1_005.fastq.gz, /shared/ngs/illumina/agreaney/200812_D00300_1026_BHFFJTBCX3/Unaligned/Project_agreaney/Sample_expt_22-23_lib1_ref/expt_22-23_lib1_ref_ACCACTGT_L001_R1_012.fastq.gz, /shared/ngs/illumina/agreaney/200812_D00300_1026_BHFFJTBCX3/Unaligned/Project_agreaney/Sample_expt_22-23_lib1_ref/expt_22-23_lib1_ref_ACCACTGT_L001_R1_011.fastq.gz, /shared/ngs/illumina/agreaney/200812_D00300_1026_BHFFJTBCX3/Unaligned/Project_agreaney/Sample_expt_22-23_lib1_ref/expt_22-23_lib1_ref_ACCACTGT_L002_R1_004.fastq.gz, /shared/ngs/illumina/agreaney/200812_D00300_1026_BHFFJTBCX3/Unaligned/Project_agreaney/Sample_expt_22-23_lib1_ref/expt_22-23_lib1_ref_ACCACTGT_L002_R1_016.fastq.gz, /shared/ngs/illumina/agreaney/200812_D00300_1026_BHFFJTBCX3/Unaligned/Project_agreaney/Sample_expt_22-23_lib1_ref/expt_22-23_lib1_ref_ACCACTGT_L002_R1_014.fastq.gz, /shared/ngs/illumina/agreaney/200812_D00300_1026_BHFFJTBCX3/Unaligned/Project_agreaney/Sample_expt_22-23_lib1_ref/expt_22-23_lib1_ref_ACCACTGT_L001_R1_015.fastq.gz, /shared/ngs/illumina/agreaney/200812_D00300_1026_BHFFJTBCX3/Unaligned/Project_agreaney/Sample_expt_22-23_lib1_ref/expt_22-23_lib1_ref_ACCACTGT_L001_R1_008.fastq.gz, /shared/ngs/illumina/agreaney/200812_D00300_1026_BHFFJTBCX3/Unaligned/Project_agreaney/Sample_expt_22-23_lib1_ref/expt_22-23_lib1_ref_ACCACTGT_L001_R1_007.fastq.gz, /shared/ngs/illumina/agreaney/200812_D00300_1026_BHFFJTBCX3/Unaligned/Project_agreaney/Sample_expt_22-23_lib1_ref/expt_22-23_lib1_ref_ACCACTGT_L002_R1_010.fastq.gz, /shared/ngs/illumina/agreaney/200812_D00300_1026_BHFFJTBCX3/Unaligned/Project_agreaney/Sample_expt_22-23_lib1_ref/expt_22-23_lib1_ref_ACCACTGT_L001_R1_002.fastq.gz, /shared/ngs/illumina/agreaney/200812_D00300_1026_BHFFJTBCX3/Unaligned/Project_agreaney/Sample_expt_22-23_lib1_ref/expt_22-23_lib1_ref_ACCACTGT_L001_R1_014.fastq.gz, /shared/ngs/illumina/agreaney/200812_D00300_1026_BHFFJTBCX3/Unaligned/Project_agreaney/Sample_expt_22-23_lib1_ref/expt_22-23_lib1_ref_ACCACTGT_L002_R1_009.fastq.gz, /shared/ngs/illumina/agreaney/200812_D00300_1026_BHFFJTBCX3/Unaligned/Project_agreaney/Sample_expt_22-23_lib1_ref/expt_22-23_lib1_ref_ACCACTGT_L001_R1_001.fastq.gz, /shared/ngs/illumina/agreaney/200812_D00300_1026_BHFFJTBCX3/Unaligned/Project_agreaney/Sample_expt_22-23_lib1_ref/expt_22-23_lib1_ref_ACCACTGT_L002_R1_001.fastq.gz, /shared/ngs/illumina/agreaney/200812_D00300_1026_BHFFJTBCX3/Unaligned/Project_agreaney/Sample_expt_22-23_lib1_ref/expt_22-23_lib1_ref_ACCACTGT_L002_R1_011.fastq.gz, /shared/ngs/illumina/agreaney/200812_D00300_1026_BHFFJTBCX3/Unaligned/Project_agreaney/Sample_expt_22-23_lib1_ref/expt_22-23_lib1_ref_ACCACTGT_L001_R1_004.fastq.gz, /shared/ngs/illumina/agreaney/200812_D00300_1026_BHFFJTBCX3/Unaligned/Project_agreaney/Sample_expt_22-23_lib1_ref/expt_22-23_lib1_ref_ACCACTGT_L002_R1_013.fastq.gz, /shared/ngs/illumina/agreaney/200812_D00300_1026_BHFFJTBCX3/Unaligned/Project_agreaney/Sample_expt_22-23_lib1_ref/expt_22-23_lib1_ref_ACCACTGT_L002_R1_017.fastq.gz, /shared/ngs/illumina/agreaney/200812_D00300_1026_BHFFJTBCX3/Unaligned/Project_agreaney/Sample_expt_22-23_lib1_ref/expt_22-23_lib1_ref_ACCACTGT_L002_R1_002.fastq.gz, /shared/ngs/illumina/agreaney/200812_D00300_1026_BHFFJTBCX3/Unaligned/Project_agreaney/Sample_expt_22-23_lib1_ref/expt_22-23_lib1_ref_ACCACTGT_L002_R1_015.fastq.gz]</td>\n",
       "    </tr>\n",
       "    <tr>\n",
       "      <td>lib2</td>\n",
       "      <td>expt_22-23-none-0-reference</td>\n",
       "      <td>200810</td>\n",
       "      <td>expt_22-23</td>\n",
       "      <td>none</td>\n",
       "      <td>0</td>\n",
       "      <td>ng_per_mL</td>\n",
       "      <td>none</td>\n",
       "      <td>reference</td>\n",
       "      <td>NaN</td>\n",
       "      <td>160000000.0</td>\n",
       "      <td>[/shared/ngs/illumina/agreaney/200812_D00300_1026_BHFFJTBCX3/Unaligned/Project_agreaney/Sample_expt_22-23_lib2_ref/expt_22-23_lib2_ref_ACATTGGC_L002_R1_006.fastq.gz, /shared/ngs/illumina/agreaney/200812_D00300_1026_BHFFJTBCX3/Unaligned/Project_agreaney/Sample_expt_22-23_lib2_ref/expt_22-23_lib2_ref_ACATTGGC_L001_R1_014.fastq.gz, /shared/ngs/illumina/agreaney/200812_D00300_1026_BHFFJTBCX3/Unaligned/Project_agreaney/Sample_expt_22-23_lib2_ref/expt_22-23_lib2_ref_ACATTGGC_L001_R1_003.fastq.gz, /shared/ngs/illumina/agreaney/200812_D00300_1026_BHFFJTBCX3/Unaligned/Project_agreaney/Sample_expt_22-23_lib2_ref/expt_22-23_lib2_ref_ACATTGGC_L001_R1_006.fastq.gz, /shared/ngs/illumina/agreaney/200812_D00300_1026_BHFFJTBCX3/Unaligned/Project_agreaney/Sample_expt_22-23_lib2_ref/expt_22-23_lib2_ref_ACATTGGC_L002_R1_008.fastq.gz, /shared/ngs/illumina/agreaney/200812_D00300_1026_BHFFJTBCX3/Unaligned/Project_agreaney/Sample_expt_22-23_lib2_ref/expt_22-23_lib2_ref_ACATTGGC_L002_R1_004.fastq.gz, /shared/ngs/illumina/agreaney/200812_D00300_1026_BHFFJTBCX3/Unaligned/Project_agreaney/Sample_expt_22-23_lib2_ref/expt_22-23_lib2_ref_ACATTGGC_L002_R1_001.fastq.gz, /shared/ngs/illumina/agreaney/200812_D00300_1026_BHFFJTBCX3/Unaligned/Project_agreaney/Sample_expt_22-23_lib2_ref/expt_22-23_lib2_ref_ACATTGGC_L001_R1_007.fastq.gz, /shared/ngs/illumina/agreaney/200812_D00300_1026_BHFFJTBCX3/Unaligned/Project_agreaney/Sample_expt_22-23_lib2_ref/expt_22-23_lib2_ref_ACATTGGC_L001_R1_002.fastq.gz, /shared/ngs/illumina/agreaney/200812_D00300_1026_BHFFJTBCX3/Unaligned/Project_agreaney/Sample_expt_22-23_lib2_ref/expt_22-23_lib2_ref_ACATTGGC_L001_R1_016.fastq.gz, /shared/ngs/illumina/agreaney/200812_D00300_1026_BHFFJTBCX3/Unaligned/Project_agreaney/Sample_expt_22-23_lib2_ref/expt_22-23_lib2_ref_ACATTGGC_L001_R1_013.fastq.gz, /shared/ngs/illumina/agreaney/200812_D00300_1026_BHFFJTBCX3/Unaligned/Project_agreaney/Sample_expt_22-23_lib2_ref/expt_22-23_lib2_ref_ACATTGGC_L002_R1_010.fastq.gz, /shared/ngs/illumina/agreaney/200812_D00300_1026_BHFFJTBCX3/Unaligned/Project_agreaney/Sample_expt_22-23_lib2_ref/expt_22-23_lib2_ref_ACATTGGC_L002_R1_007.fastq.gz, /shared/ngs/illumina/agreaney/200812_D00300_1026_BHFFJTBCX3/Unaligned/Project_agreaney/Sample_expt_22-23_lib2_ref/expt_22-23_lib2_ref_ACATTGGC_L001_R1_009.fastq.gz, /shared/ngs/illumina/agreaney/200812_D00300_1026_BHFFJTBCX3/Unaligned/Project_agreaney/Sample_expt_22-23_lib2_ref/expt_22-23_lib2_ref_ACATTGGC_L002_R1_016.fastq.gz, /shared/ngs/illumina/agreaney/200812_D00300_1026_BHFFJTBCX3/Unaligned/Project_agreaney/Sample_expt_22-23_lib2_ref/expt_22-23_lib2_ref_ACATTGGC_L002_R1_003.fastq.gz, /shared/ngs/illumina/agreaney/200812_D00300_1026_BHFFJTBCX3/Unaligned/Project_agreaney/Sample_expt_22-23_lib2_ref/expt_22-23_lib2_ref_ACATTGGC_L001_R1_015.fastq.gz, /shared/ngs/illumina/agreaney/200812_D00300_1026_BHFFJTBCX3/Unaligned/Project_agreaney/Sample_expt_22-23_lib2_ref/expt_22-23_lib2_ref_ACATTGGC_L001_R1_010.fastq.gz, /shared/ngs/illumina/agreaney/200812_D00300_1026_BHFFJTBCX3/Unaligned/Project_agreaney/Sample_expt_22-23_lib2_ref/expt_22-23_lib2_ref_ACATTGGC_L001_R1_008.fastq.gz, /shared/ngs/illumina/agreaney/200812_D00300_1026_BHFFJTBCX3/Unaligned/Project_agreaney/Sample_expt_22-23_lib2_ref/expt_22-23_lib2_ref_ACATTGGC_L001_R1_001.fastq.gz, /shared/ngs/illumina/agreaney/200812_D00300_1026_BHFFJTBCX3/Unaligned/Project_agreaney/Sample_expt_22-23_lib2_ref/expt_22-23_lib2_ref_ACATTGGC_L002_R1_011.fastq.gz, /shared/ngs/illumina/agreaney/200812_D00300_1026_BHFFJTBCX3/Unaligned/Project_agreaney/Sample_expt_22-23_lib2_ref/expt_22-23_lib2_ref_ACATTGGC_L001_R1_011.fastq.gz, /shared/ngs/illumina/agreaney/200812_D00300_1026_BHFFJTBCX3/Unaligned/Project_agreaney/Sample_expt_22-23_lib2_ref/expt_22-23_lib2_ref_ACATTGGC_L002_R1_013.fastq.gz, /shared/ngs/illumina/agreaney/200812_D00300_1026_BHFFJTBCX3/Unaligned/Project_agreaney/Sample_expt_22-23_lib2_ref/expt_22-23_lib2_ref_ACATTGGC_L002_R1_002.fastq.gz, /shared/ngs/illumina/agreaney/200812_D00300_1026_BHFFJTBCX3/Unaligned/Project_agreaney/Sample_expt_22-23_lib2_ref/expt_22-23_lib2_ref_ACATTGGC_L002_R1_014.fastq.gz, /shared/ngs/illumina/agreaney/200812_D00300_1026_BHFFJTBCX3/Unaligned/Project_agreaney/Sample_expt_22-23_lib2_ref/expt_22-23_lib2_ref_ACATTGGC_L001_R1_005.fastq.gz, /shared/ngs/illumina/agreaney/200812_D00300_1026_BHFFJTBCX3/Unaligned/Project_agreaney/Sample_expt_22-23_lib2_ref/expt_22-23_lib2_ref_ACATTGGC_L001_R1_004.fastq.gz, /shared/ngs/illumina/agreaney/200812_D00300_1026_BHFFJTBCX3/Unaligned/Project_agreaney/Sample_expt_22-23_lib2_ref/expt_22-23_lib2_ref_ACATTGGC_L002_R1_012.fastq.gz, /shared/ngs/illumina/agreaney/200812_D00300_1026_BHFFJTBCX3/Unaligned/Project_agreaney/Sample_expt_22-23_lib2_ref/expt_22-23_lib2_ref_ACATTGGC_L002_R1_005.fastq.gz, /shared/ngs/illumina/agreaney/200812_D00300_1026_BHFFJTBCX3/Unaligned/Project_agreaney/Sample_expt_22-23_lib2_ref/expt_22-23_lib2_ref_ACATTGGC_L002_R1_009.fastq.gz, /shared/ngs/illumina/agreaney/200812_D00300_1026_BHFFJTBCX3/Unaligned/Project_agreaney/Sample_expt_22-23_lib2_ref/expt_22-23_lib2_ref_ACATTGGC_L002_R1_015.fastq.gz, /shared/ngs/illumina/agreaney/200812_D00300_1026_BHFFJTBCX3/Unaligned/Project_agreaney/Sample_expt_22-23_lib2_ref/expt_22-23_lib2_ref_ACATTGGC_L001_R1_012.fastq.gz]</td>\n",
       "    </tr>\n",
       "    <tr>\n",
       "      <td>lib1</td>\n",
       "      <td>expt_17-2B04-400-escape</td>\n",
       "      <td>200721</td>\n",
       "      <td>expt_17</td>\n",
       "      <td>2B04</td>\n",
       "      <td>400</td>\n",
       "      <td>ng_per_mL</td>\n",
       "      <td>Ellebedy</td>\n",
       "      <td>escape</td>\n",
       "      <td>0.207</td>\n",
       "      <td>2190044.0</td>\n",
       "      <td>[/shared/ngs/illumina/agreaney/200727_D00300_1012_AHFFMGBCX3/Unaligned/Project_agreaney/Sample_expt_17_lib1_abneg/expt_17_lib1_abneg_CGCTGATC_L002_R1_002.fastq.gz, /shared/ngs/illumina/agreaney/200727_D00300_1012_AHFFMGBCX3/Unaligned/Project_agreaney/Sample_expt_17_lib1_abneg/expt_17_lib1_abneg_CGCTGATC_L002_R1_001.fastq.gz, /shared/ngs/illumina/agreaney/200727_D00300_1012_AHFFMGBCX3/Unaligned/Project_agreaney/Sample_expt_17_lib1_abneg/expt_17_lib1_abneg_CGCTGATC_L001_R1_002.fastq.gz, /shared/ngs/illumina/agreaney/200727_D00300_1012_AHFFMGBCX3/Unaligned/Project_agreaney/Sample_expt_17_lib1_abneg/expt_17_lib1_abneg_CGCTGATC_L001_R1_001.fastq.gz]</td>\n",
       "    </tr>\n",
       "    <tr>\n",
       "      <td>lib2</td>\n",
       "      <td>expt_17-2B04-400-escape</td>\n",
       "      <td>200721</td>\n",
       "      <td>expt_17</td>\n",
       "      <td>2B04</td>\n",
       "      <td>400</td>\n",
       "      <td>ng_per_mL</td>\n",
       "      <td>Ellebedy</td>\n",
       "      <td>escape</td>\n",
       "      <td>0.176</td>\n",
       "      <td>1991610.0</td>\n",
       "      <td>[/shared/ngs/illumina/agreaney/200727_D00300_1012_AHFFMGBCX3/Unaligned/Project_agreaney/Sample_expt_17_lib2_abneg/expt_17_lib2_abneg_ACAAGCTA_L002_R1_001.fastq.gz, /shared/ngs/illumina/agreaney/200727_D00300_1012_AHFFMGBCX3/Unaligned/Project_agreaney/Sample_expt_17_lib2_abneg/expt_17_lib2_abneg_ACAAGCTA_L001_R1_001.fastq.gz, /shared/ngs/illumina/agreaney/200727_D00300_1012_AHFFMGBCX3/Unaligned/Project_agreaney/Sample_expt_17_lib2_abneg/expt_17_lib2_abneg_ACAAGCTA_L002_R1_002.fastq.gz, /shared/ngs/illumina/agreaney/200727_D00300_1012_AHFFMGBCX3/Unaligned/Project_agreaney/Sample_expt_17_lib2_abneg/expt_17_lib2_abneg_ACAAGCTA_L001_R1_002.fastq.gz]</td>\n",
       "    </tr>\n",
       "    <tr>\n",
       "      <td>lib1</td>\n",
       "      <td>expt_6-2C02-400-escape</td>\n",
       "      <td>200615</td>\n",
       "      <td>expt_6</td>\n",
       "      <td>2C02</td>\n",
       "      <td>400</td>\n",
       "      <td>ng_per_mL</td>\n",
       "      <td>Ellebedy</td>\n",
       "      <td>escape</td>\n",
       "      <td>0.157</td>\n",
       "      <td>1771544.0</td>\n",
       "      <td>[/shared/ngs/illumina/agreaney/200618_D00300_0980_AHFCMJBCX3/Unaligned/Project_agreaney/Sample_expt_6_lib1_abneg/expt_6_lib1_abneg_AGTACAAG_L002_R1_001.fastq.gz, /shared/ngs/illumina/agreaney/200618_D00300_0980_AHFCMJBCX3/Unaligned/Project_agreaney/Sample_expt_6_lib1_abneg/expt_6_lib1_abneg_AGTACAAG_L001_R1_001.fastq.gz, /shared/ngs/illumina/agreaney/200701_D00300_0988_BHGFGMBCX3/Unaligned/Project_agreaney/expt_6_lib1_abneg_S5_L001_R1_001.fastq.gz]</td>\n",
       "    </tr>\n",
       "    <tr>\n",
       "      <td>lib2</td>\n",
       "      <td>expt_6-2C02-400-escape</td>\n",
       "      <td>200615</td>\n",
       "      <td>expt_6</td>\n",
       "      <td>2C02</td>\n",
       "      <td>400</td>\n",
       "      <td>ng_per_mL</td>\n",
       "      <td>Ellebedy</td>\n",
       "      <td>escape</td>\n",
       "      <td>0.178</td>\n",
       "      <td>2163094.0</td>\n",
       "      <td>[/shared/ngs/illumina/agreaney/200618_D00300_0980_AHFCMJBCX3/Unaligned/Project_agreaney/Sample_expt_6_lib2_abneg/expt_6_lib2_abneg_AACAACCA_L002_R1_001.fastq.gz, /shared/ngs/illumina/agreaney/200618_D00300_0980_AHFCMJBCX3/Unaligned/Project_agreaney/Sample_expt_6_lib2_abneg/expt_6_lib2_abneg_AACAACCA_L001_R1_001.fastq.gz, /shared/ngs/illumina/agreaney/200701_D00300_0988_BHGFGMBCX3/Unaligned/Project_agreaney/expt_6_lib2_abneg_S6_L001_R1_001.fastq.gz]</td>\n",
       "    </tr>\n",
       "    <tr>\n",
       "      <td>lib1</td>\n",
       "      <td>expt_19-2C03-400-escape</td>\n",
       "      <td>200721</td>\n",
       "      <td>expt_19</td>\n",
       "      <td>2C03</td>\n",
       "      <td>400</td>\n",
       "      <td>ng_per_mL</td>\n",
       "      <td>Ellebedy</td>\n",
       "      <td>escape</td>\n",
       "      <td>0.219</td>\n",
       "      <td>2231282.0</td>\n",
       "      <td>[/shared/ngs/illumina/agreaney/200727_D00300_1012_AHFFMGBCX3/Unaligned/Project_agreaney/Sample_expt_19_lib1_abneg/expt_19_lib1_abneg_AACAACCA_L002_R1_001.fastq.gz, /shared/ngs/illumina/agreaney/200727_D00300_1012_AHFFMGBCX3/Unaligned/Project_agreaney/Sample_expt_19_lib1_abneg/expt_19_lib1_abneg_AACAACCA_L002_R1_002.fastq.gz, /shared/ngs/illumina/agreaney/200727_D00300_1012_AHFFMGBCX3/Unaligned/Project_agreaney/Sample_expt_19_lib1_abneg/expt_19_lib1_abneg_AACAACCA_L001_R1_002.fastq.gz, /shared/ngs/illumina/agreaney/200727_D00300_1012_AHFFMGBCX3/Unaligned/Project_agreaney/Sample_expt_19_lib1_abneg/expt_19_lib1_abneg_AACAACCA_L001_R1_001.fastq.gz]</td>\n",
       "    </tr>\n",
       "    <tr>\n",
       "      <td>lib2</td>\n",
       "      <td>expt_19-2C03-400-escape</td>\n",
       "      <td>200721</td>\n",
       "      <td>expt_19</td>\n",
       "      <td>2C03</td>\n",
       "      <td>400</td>\n",
       "      <td>ng_per_mL</td>\n",
       "      <td>Ellebedy</td>\n",
       "      <td>escape</td>\n",
       "      <td>0.301</td>\n",
       "      <td>2756966.0</td>\n",
       "      <td>[/shared/ngs/illumina/agreaney/200727_D00300_1012_AHFFMGBCX3/Unaligned/Project_agreaney/Sample_expt_19_lib2_abneg/expt_19_lib2_abneg_AACCGAGA_L001_R1_001.fastq.gz, /shared/ngs/illumina/agreaney/200727_D00300_1012_AHFFMGBCX3/Unaligned/Project_agreaney/Sample_expt_19_lib2_abneg/expt_19_lib2_abneg_AACCGAGA_L002_R1_002.fastq.gz, /shared/ngs/illumina/agreaney/200727_D00300_1012_AHFFMGBCX3/Unaligned/Project_agreaney/Sample_expt_19_lib2_abneg/expt_19_lib2_abneg_AACCGAGA_L002_R1_001.fastq.gz, /shared/ngs/illumina/agreaney/200727_D00300_1012_AHFFMGBCX3/Unaligned/Project_agreaney/Sample_expt_19_lib2_abneg/expt_19_lib2_abneg_AACCGAGA_L001_R1_002.fastq.gz]</td>\n",
       "    </tr>\n",
       "    <tr>\n",
       "      <td>lib1</td>\n",
       "      <td>expt_22-mAb-2E06-400-escape</td>\n",
       "      <td>200810</td>\n",
       "      <td>expt_22</td>\n",
       "      <td>mAb-2E06</td>\n",
       "      <td>400</td>\n",
       "      <td>ng_per_mL</td>\n",
       "      <td>Ellebedy</td>\n",
       "      <td>escape</td>\n",
       "      <td>0.043</td>\n",
       "      <td>434712.0</td>\n",
       "      <td>[/shared/ngs/illumina/agreaney/200812_D00300_1026_BHFFJTBCX3/Unaligned/Project_agreaney/Sample_expt_22_lib1_abneg/expt_22_lib1_abneg_AACGTGAT_L001_R1_001.fastq.gz, /shared/ngs/illumina/agreaney/200812_D00300_1026_BHFFJTBCX3/Unaligned/Project_agreaney/Sample_expt_22_lib1_abneg/expt_22_lib1_abneg_AACGTGAT_L002_R1_001.fastq.gz]</td>\n",
       "    </tr>\n",
       "    <tr>\n",
       "      <td>lib2</td>\n",
       "      <td>expt_22-mAb-2E06-400-escape</td>\n",
       "      <td>200810</td>\n",
       "      <td>expt_22</td>\n",
       "      <td>mAb-2E06</td>\n",
       "      <td>400</td>\n",
       "      <td>ng_per_mL</td>\n",
       "      <td>Ellebedy</td>\n",
       "      <td>escape</td>\n",
       "      <td>0.044</td>\n",
       "      <td>491741.0</td>\n",
       "      <td>[/shared/ngs/illumina/agreaney/200812_D00300_1026_BHFFJTBCX3/Unaligned/Project_agreaney/Sample_expt_22_lib2_abneg/expt_22_lib2_abneg_AAACATCG_L001_R1_001.fastq.gz, /shared/ngs/illumina/agreaney/200812_D00300_1026_BHFFJTBCX3/Unaligned/Project_agreaney/Sample_expt_22_lib2_abneg/expt_22_lib2_abneg_AAACATCG_L001_R1_002.fastq.gz, /shared/ngs/illumina/agreaney/200812_D00300_1026_BHFFJTBCX3/Unaligned/Project_agreaney/Sample_expt_22_lib2_abneg/expt_22_lib2_abneg_AAACATCG_L002_R1_002.fastq.gz, /shared/ngs/illumina/agreaney/200812_D00300_1026_BHFFJTBCX3/Unaligned/Project_agreaney/Sample_expt_22_lib2_abneg/expt_22_lib2_abneg_AAACATCG_L002_R1_001.fastq.gz]</td>\n",
       "    </tr>\n",
       "  </tbody>\n",
       "</table>"
      ],
      "text/plain": [
       "<IPython.core.display.HTML object>"
      ]
     },
     "metadata": {},
     "output_type": "display_data"
    }
   ],
   "source": [
    "print(f\"Reading list of barcode runs from {config['barcode_runs']}\")\n",
    "\n",
    "barcode_runs = (pd.read_csv(config['barcode_runs'])\n",
    "                # expand semi-colon separated glob patterns\n",
    "                .assign(R1=lambda x: x['R1'].str.split('; ').map(\n",
    "                                lambda y: list(itertools.chain(*map(glob.glob, y))))\n",
    "                        )\n",
    "                )\n",
    "      \n",
    "display(HTML(barcode_runs.to_html(index=False)))"
   ]
  },
  {
   "cell_type": "markdown",
   "metadata": {},
   "source": [
    "Confirm sample / library combinations unique:"
   ]
  },
  {
   "cell_type": "code",
   "execution_count": 9,
   "metadata": {
    "execution": {
     "iopub.execute_input": "2020-09-25T16:12:24.466683Z",
     "iopub.status.busy": "2020-09-25T16:12:24.465731Z",
     "iopub.status.idle": "2020-09-25T16:12:24.467584Z",
     "shell.execute_reply": "2020-09-25T16:12:24.468540Z"
    }
   },
   "outputs": [],
   "source": [
    "assert len(barcode_runs) == len(barcode_runs.groupby(['sample', 'library']))"
   ]
  },
  {
   "cell_type": "markdown",
   "metadata": {},
   "source": [
    "Make sure the the libraries for which we have barcode runs are all in our variant table:"
   ]
  },
  {
   "cell_type": "code",
   "execution_count": 10,
   "metadata": {
    "execution": {
     "iopub.execute_input": "2020-09-25T16:12:24.474045Z",
     "iopub.status.busy": "2020-09-25T16:12:24.473093Z",
     "iopub.status.idle": "2020-09-25T16:12:24.474941Z",
     "shell.execute_reply": "2020-09-25T16:12:24.475891Z"
    }
   },
   "outputs": [],
   "source": [
    "unknown_libs = set(barcode_runs['library']) - set(variants.libraries)\n",
    "if unknown_libs:\n",
    "    raise ValueError(f\"Libraries with barcode runs not in variant table: {unknown_libs}\")"
   ]
  },
  {
   "cell_type": "markdown",
   "metadata": {},
   "source": [
    "Now we initialize an [IlluminaBarcodeParser](https://jbloomlab.github.io/dms_variants/dms_variants.illuminabarcodeparser.html#dms_variants.illuminabarcodeparser.IlluminaBarcodeParser) for each library.\n",
    "\n",
    "The barcode parsing params come from the config file:"
   ]
  },
  {
   "cell_type": "code",
   "execution_count": 11,
   "metadata": {
    "execution": {
     "iopub.execute_input": "2020-09-25T16:12:24.483026Z",
     "iopub.status.busy": "2020-09-25T16:12:24.482546Z",
     "iopub.status.idle": "2020-09-25T16:12:24.486380Z",
     "shell.execute_reply": "2020-09-25T16:12:24.485993Z"
    }
   },
   "outputs": [
    {
     "data": {
      "text/html": [
       "<table border=\"1\" class=\"dataframe\">\n",
       "  <thead>\n",
       "    <tr style=\"text-align: right;\">\n",
       "      <th>parameter</th>\n",
       "      <th>value</th>\n",
       "    </tr>\n",
       "  </thead>\n",
       "  <tbody>\n",
       "    <tr>\n",
       "      <td>bclen</td>\n",
       "      <td>16</td>\n",
       "    </tr>\n",
       "    <tr>\n",
       "      <td>upstream</td>\n",
       "      <td>GCTCGCGGCCGC</td>\n",
       "    </tr>\n",
       "    <tr>\n",
       "      <td>downstream</td>\n",
       "      <td></td>\n",
       "    </tr>\n",
       "    <tr>\n",
       "      <td>minq</td>\n",
       "      <td>20</td>\n",
       "    </tr>\n",
       "    <tr>\n",
       "      <td>upstream_mismatch</td>\n",
       "      <td>1</td>\n",
       "    </tr>\n",
       "    <tr>\n",
       "      <td>downstream_mismatch</td>\n",
       "      <td>0</td>\n",
       "    </tr>\n",
       "  </tbody>\n",
       "</table>"
      ],
      "text/plain": [
       "<IPython.core.display.HTML object>"
      ]
     },
     "metadata": {},
     "output_type": "display_data"
    }
   ],
   "source": [
    "parser_params = config['illumina_barcode_parser_params']\n",
    "\n",
    "display(HTML(\n",
    "    pd.Series(parser_params, name='value')\n",
    "    .rename_axis(index='parameter')\n",
    "    .reset_index()\n",
    "    .to_html(index=False)\n",
    "    ))"
   ]
  },
  {
   "cell_type": "markdown",
   "metadata": {},
   "source": [
    "The parser needs to know the set of valid barcodes, which are stored in the variant table and are different for each library.\n",
    "So we create a different parser for each library using these valid barcode sets:"
   ]
  },
  {
   "cell_type": "code",
   "execution_count": 12,
   "metadata": {
    "execution": {
     "iopub.execute_input": "2020-09-25T16:12:24.534371Z",
     "iopub.status.busy": "2020-09-25T16:12:24.524766Z",
     "iopub.status.idle": "2020-09-25T16:12:24.553713Z",
     "shell.execute_reply": "2020-09-25T16:12:24.552911Z"
    }
   },
   "outputs": [
    {
     "name": "stdout",
     "output_type": "stream",
     "text": [
      "Number of valid barcodes searched for by each parser:\n"
     ]
    },
    {
     "data": {
      "text/html": [
       "<table border=\"1\" class=\"dataframe\">\n",
       "  <thead>\n",
       "    <tr style=\"text-align: right;\">\n",
       "      <th>library</th>\n",
       "      <th>number of valid barcodes</th>\n",
       "    </tr>\n",
       "  </thead>\n",
       "  <tbody>\n",
       "    <tr>\n",
       "      <td>lib1</td>\n",
       "      <td>99648</td>\n",
       "    </tr>\n",
       "    <tr>\n",
       "      <td>lib2</td>\n",
       "      <td>97691</td>\n",
       "    </tr>\n",
       "  </tbody>\n",
       "</table>"
      ],
      "text/plain": [
       "<IPython.core.display.HTML object>"
      ]
     },
     "metadata": {},
     "output_type": "display_data"
    }
   ],
   "source": [
    "# create dict keyed by library, value is parser for library\n",
    "parsers = {lib: dms_variants.illuminabarcodeparser.IlluminaBarcodeParser(\n",
    "                    valid_barcodes=variants.valid_barcodes(lib),\n",
    "                    **parser_params)\n",
    "           for lib in variants.libraries}\n",
    "\n",
    "print('Number of valid barcodes searched for by each parser:')\n",
    "display(HTML(\n",
    "    pd.DataFrame([(lib, len(p.valid_barcodes)) for lib, p in parsers.items()],\n",
    "                 columns=['library', 'number of valid barcodes'])\n",
    "    .to_html(index=False)\n",
    "    ))"
   ]
  },
  {
   "cell_type": "markdown",
   "metadata": {},
   "source": [
    "## Parse barcodes\n",
    "We now parse the barcodes.\n",
    "Since this will take a while, we utilize multiple CPUs via the Python [multiprocessing](https://docs.python.org/3.6/library/multiprocessing.html) module.\n",
    "First, determine how many CPUs to use.\n",
    "We use the minimum of the user-specified number hardcoded below and the number actually available:"
   ]
  },
  {
   "cell_type": "code",
   "execution_count": 13,
   "metadata": {
    "execution": {
     "iopub.execute_input": "2020-09-25T16:12:24.558255Z",
     "iopub.status.busy": "2020-09-25T16:12:24.557493Z",
     "iopub.status.idle": "2020-09-25T16:12:24.559929Z",
     "shell.execute_reply": "2020-09-25T16:12:24.560718Z"
    }
   },
   "outputs": [
    {
     "name": "stdout",
     "output_type": "stream",
     "text": [
      "Using 16 CPUs\n"
     ]
    }
   ],
   "source": [
    "ncpus = min(config['max_cpus'], multiprocessing.cpu_count())\n",
    "print(f\"Using {ncpus} CPUs\")"
   ]
  },
  {
   "cell_type": "markdown",
   "metadata": {},
   "source": [
    "Parse the barcodes in parallel via a [multiprocessing.Pool](https://docs.python.org/3.6/library/multiprocessing.html#multiprocessing.pool.Pool) using all the available CPUs to get a list of the data frames with barcode counts / fates for each sample:"
   ]
  },
  {
   "cell_type": "code",
   "execution_count": 14,
   "metadata": {
    "execution": {
     "iopub.execute_input": "2020-09-25T16:12:24.565688Z",
     "iopub.status.busy": "2020-09-25T16:12:24.565228Z",
     "iopub.status.idle": "2020-09-25T16:45:44.213914Z",
     "shell.execute_reply": "2020-09-25T16:45:44.214245Z"
    }
   },
   "outputs": [],
   "source": [
    "def process_func(parser, r1files, library, sample):\n",
    "    \"\"\"Convenience function to be starmapped to multiprocessing pool.\"\"\"\n",
    "    return parser.parse(r1files, add_cols={'library': library, 'sample': sample})\n",
    "\n",
    "# parallel computation of list of data frames\n",
    "with multiprocessing.pool.Pool(processes=ncpus) as pool:\n",
    "    bclist = pool.starmap(\n",
    "                process_func,\n",
    "                [(parsers[run.library], run.R1, run.library, run.sample)\n",
    "                  for run in barcode_runs.itertuples()],\n",
    "                )"
   ]
  },
  {
   "cell_type": "markdown",
   "metadata": {},
   "source": [
    "Now concatenate the list into data frames of barcode counts and barcode fates:"
   ]
  },
  {
   "cell_type": "code",
   "execution_count": 15,
   "metadata": {
    "execution": {
     "iopub.execute_input": "2020-09-25T16:45:44.221386Z",
     "iopub.status.busy": "2020-09-25T16:45:44.220826Z",
     "iopub.status.idle": "2020-09-25T16:45:44.509803Z",
     "shell.execute_reply": "2020-09-25T16:45:44.509223Z"
    }
   },
   "outputs": [
    {
     "name": "stdout",
     "output_type": "stream",
     "text": [
      "First few lines of counts data frame:\n"
     ]
    },
    {
     "data": {
      "text/html": [
       "<table border=\"1\" class=\"dataframe\">\n",
       "  <thead>\n",
       "    <tr style=\"text-align: right;\">\n",
       "      <th>barcode</th>\n",
       "      <th>count</th>\n",
       "      <th>library</th>\n",
       "      <th>sample</th>\n",
       "    </tr>\n",
       "  </thead>\n",
       "  <tbody>\n",
       "    <tr>\n",
       "      <td>TTCCAAAATATTGTCA</td>\n",
       "      <td>1105491</td>\n",
       "      <td>lib1</td>\n",
       "      <td>expt_17-19-none-0-reference</td>\n",
       "    </tr>\n",
       "    <tr>\n",
       "      <td>TAGTAACAATGCGGTA</td>\n",
       "      <td>769220</td>\n",
       "      <td>lib1</td>\n",
       "      <td>expt_17-19-none-0-reference</td>\n",
       "    </tr>\n",
       "    <tr>\n",
       "      <td>TTAATTAGTATCAGGT</td>\n",
       "      <td>317284</td>\n",
       "      <td>lib1</td>\n",
       "      <td>expt_17-19-none-0-reference</td>\n",
       "    </tr>\n",
       "    <tr>\n",
       "      <td>CCGGACACATAGCTTA</td>\n",
       "      <td>227686</td>\n",
       "      <td>lib1</td>\n",
       "      <td>expt_17-19-none-0-reference</td>\n",
       "    </tr>\n",
       "    <tr>\n",
       "      <td>GTAAGAAGCTTACCAG</td>\n",
       "      <td>200544</td>\n",
       "      <td>lib1</td>\n",
       "      <td>expt_17-19-none-0-reference</td>\n",
       "    </tr>\n",
       "  </tbody>\n",
       "</table>"
      ],
      "text/plain": [
       "<IPython.core.display.HTML object>"
      ]
     },
     "metadata": {},
     "output_type": "display_data"
    },
    {
     "name": "stdout",
     "output_type": "stream",
     "text": [
      "First few lines of fates data frame:\n"
     ]
    },
    {
     "data": {
      "text/html": [
       "<table border=\"1\" class=\"dataframe\">\n",
       "  <thead>\n",
       "    <tr style=\"text-align: right;\">\n",
       "      <th>fate</th>\n",
       "      <th>count</th>\n",
       "      <th>library</th>\n",
       "      <th>sample</th>\n",
       "    </tr>\n",
       "  </thead>\n",
       "  <tbody>\n",
       "    <tr>\n",
       "      <td>valid barcode</td>\n",
       "      <td>25635366</td>\n",
       "      <td>lib1</td>\n",
       "      <td>expt_17-19-none-0-reference</td>\n",
       "    </tr>\n",
       "    <tr>\n",
       "      <td>failed chastity filter</td>\n",
       "      <td>7712563</td>\n",
       "      <td>lib1</td>\n",
       "      <td>expt_17-19-none-0-reference</td>\n",
       "    </tr>\n",
       "    <tr>\n",
       "      <td>low quality barcode</td>\n",
       "      <td>3674148</td>\n",
       "      <td>lib1</td>\n",
       "      <td>expt_17-19-none-0-reference</td>\n",
       "    </tr>\n",
       "    <tr>\n",
       "      <td>invalid barcode</td>\n",
       "      <td>2666971</td>\n",
       "      <td>lib1</td>\n",
       "      <td>expt_17-19-none-0-reference</td>\n",
       "    </tr>\n",
       "    <tr>\n",
       "      <td>unparseable barcode</td>\n",
       "      <td>833701</td>\n",
       "      <td>lib1</td>\n",
       "      <td>expt_17-19-none-0-reference</td>\n",
       "    </tr>\n",
       "  </tbody>\n",
       "</table>"
      ],
      "text/plain": [
       "<IPython.core.display.HTML object>"
      ]
     },
     "metadata": {},
     "output_type": "display_data"
    }
   ],
   "source": [
    "counts = pd.concat([samplecounts for samplecounts, _ in bclist],\n",
    "                   sort=False,\n",
    "                   ignore_index=True)\n",
    "\n",
    "print('First few lines of counts data frame:')\n",
    "display(HTML(counts.head().to_html(index=False)))\n",
    "\n",
    "fates = pd.concat([samplefates for _, samplefates in bclist],\n",
    "                  sort=False,\n",
    "                  ignore_index=True)\n",
    "\n",
    "print('First few lines of fates data frame:')\n",
    "display(HTML(fates.head().to_html(index=False)))"
   ]
  },
  {
   "cell_type": "markdown",
   "metadata": {},
   "source": [
    "## Examine fates of parsed barcodes\n",
    "First, we'll analyze the \"fates\" of the parsed barcodes.\n",
    "These fates represent what happened to each Illumina read we parsed:\n",
    " - Did the barcode read fail the Illumina chastity filter?\n",
    " - Was the barcode *unparseable* (i.e., the read didn't appear to be a valid barcode based on flanking regions)?\n",
    " - Was the barcode sequence too *low quality* based on the Illumina quality scores?\n",
    " - Was the barcode parseable but *invalid* (i.e., not in our list of variant-associated barcodes in the codon variant table)?\n",
    " - Was the barcode *valid*, and so will be added to variant counts.\n",
    " \n",
    "First, we just write a CSV file with all the barcode fates:"
   ]
  },
  {
   "cell_type": "code",
   "execution_count": 16,
   "metadata": {
    "execution": {
     "iopub.execute_input": "2020-09-25T16:45:44.516582Z",
     "iopub.status.busy": "2020-09-25T16:45:44.515926Z",
     "iopub.status.idle": "2020-09-25T16:45:44.594277Z",
     "shell.execute_reply": "2020-09-25T16:45:44.593281Z"
    }
   },
   "outputs": [
    {
     "name": "stdout",
     "output_type": "stream",
     "text": [
      "Writing barcode fates to results/counts/barcode_fates.csv\n"
     ]
    }
   ],
   "source": [
    "fatesfile = os.path.join(config['counts_dir'], 'barcode_fates.csv')\n",
    "print(f\"Writing barcode fates to {fatesfile}\")\n",
    "fates.to_csv(fatesfile, index=False)"
   ]
  },
  {
   "cell_type": "markdown",
   "metadata": {},
   "source": [
    "Next, we tabulate the barcode fates in wide format:"
   ]
  },
  {
   "cell_type": "code",
   "execution_count": 17,
   "metadata": {
    "execution": {
     "iopub.execute_input": "2020-09-25T16:45:44.609258Z",
     "iopub.status.busy": "2020-09-25T16:45:44.603275Z",
     "iopub.status.idle": "2020-09-25T16:45:44.621691Z",
     "shell.execute_reply": "2020-09-25T16:45:44.622385Z"
    }
   },
   "outputs": [
    {
     "data": {
      "text/html": [
       "<table border=\"1\" class=\"dataframe\">\n",
       "  <thead>\n",
       "    <tr style=\"text-align: right;\">\n",
       "      <th></th>\n",
       "      <th>fate</th>\n",
       "      <th>failed chastity filter</th>\n",
       "      <th>invalid barcode</th>\n",
       "      <th>low quality barcode</th>\n",
       "      <th>unparseable barcode</th>\n",
       "      <th>valid barcode</th>\n",
       "    </tr>\n",
       "    <tr>\n",
       "      <th>sample</th>\n",
       "      <th>library</th>\n",
       "      <th></th>\n",
       "      <th></th>\n",
       "      <th></th>\n",
       "      <th></th>\n",
       "      <th></th>\n",
       "    </tr>\n",
       "  </thead>\n",
       "  <tbody>\n",
       "    <tr>\n",
       "      <th rowspan=\"2\" valign=\"top\">expt_17-19-none-0-reference</th>\n",
       "      <th>lib1</th>\n",
       "      <td>7.7e+06</td>\n",
       "      <td>2.7e+06</td>\n",
       "      <td>3.7e+06</td>\n",
       "      <td>8.3e+05</td>\n",
       "      <td>2.6e+07</td>\n",
       "    </tr>\n",
       "    <tr>\n",
       "      <th>lib2</th>\n",
       "      <td>8.5e+06</td>\n",
       "      <td>2.5e+06</td>\n",
       "      <td>3.8e+06</td>\n",
       "      <td>9.0e+05</td>\n",
       "      <td>2.7e+07</td>\n",
       "    </tr>\n",
       "    <tr>\n",
       "      <th rowspan=\"2\" valign=\"top\">expt_17-2B04-400-escape</th>\n",
       "      <th>lib1</th>\n",
       "      <td>2.2e+06</td>\n",
       "      <td>5.5e+05</td>\n",
       "      <td>1.1e+06</td>\n",
       "      <td>2.7e+05</td>\n",
       "      <td>7.3e+06</td>\n",
       "    </tr>\n",
       "    <tr>\n",
       "      <th>lib2</th>\n",
       "      <td>2.3e+06</td>\n",
       "      <td>4.9e+05</td>\n",
       "      <td>1.0e+06</td>\n",
       "      <td>2.6e+05</td>\n",
       "      <td>7.6e+06</td>\n",
       "    </tr>\n",
       "    <tr>\n",
       "      <th rowspan=\"2\" valign=\"top\">expt_19-2C03-400-escape</th>\n",
       "      <th>lib1</th>\n",
       "      <td>2.7e+06</td>\n",
       "      <td>9.4e+05</td>\n",
       "      <td>1.2e+06</td>\n",
       "      <td>2.4e+05</td>\n",
       "      <td>8.4e+06</td>\n",
       "    </tr>\n",
       "    <tr>\n",
       "      <th>lib2</th>\n",
       "      <td>2.7e+06</td>\n",
       "      <td>8.4e+05</td>\n",
       "      <td>1.2e+06</td>\n",
       "      <td>3.0e+05</td>\n",
       "      <td>8.8e+06</td>\n",
       "    </tr>\n",
       "    <tr>\n",
       "      <th rowspan=\"2\" valign=\"top\">expt_22-23-none-0-reference</th>\n",
       "      <th>lib1</th>\n",
       "      <td>2.8e+06</td>\n",
       "      <td>1.2e+07</td>\n",
       "      <td>7.6e+06</td>\n",
       "      <td>1.0e+06</td>\n",
       "      <td>1.1e+08</td>\n",
       "    </tr>\n",
       "    <tr>\n",
       "      <th>lib2</th>\n",
       "      <td>2.8e+06</td>\n",
       "      <td>9.1e+06</td>\n",
       "      <td>7.5e+06</td>\n",
       "      <td>1.0e+06</td>\n",
       "      <td>1.0e+08</td>\n",
       "    </tr>\n",
       "    <tr>\n",
       "      <th rowspan=\"2\" valign=\"top\">expt_22-mAb-2E06-400-escape</th>\n",
       "      <th>lib1</th>\n",
       "      <td>1.7e+05</td>\n",
       "      <td>3.0e+05</td>\n",
       "      <td>4.6e+05</td>\n",
       "      <td>3.9e+04</td>\n",
       "      <td>6.8e+06</td>\n",
       "    </tr>\n",
       "    <tr>\n",
       "      <th>lib2</th>\n",
       "      <td>1.9e+05</td>\n",
       "      <td>5.9e+05</td>\n",
       "      <td>4.8e+05</td>\n",
       "      <td>2.8e+05</td>\n",
       "      <td>7.0e+06</td>\n",
       "    </tr>\n",
       "    <tr>\n",
       "      <th rowspan=\"2\" valign=\"top\">expt_3-6-none-0-reference</th>\n",
       "      <th>lib1</th>\n",
       "      <td>1.2e+07</td>\n",
       "      <td>4.9e+06</td>\n",
       "      <td>6.5e+06</td>\n",
       "      <td>1.4e+06</td>\n",
       "      <td>3.2e+07</td>\n",
       "    </tr>\n",
       "    <tr>\n",
       "      <th>lib2</th>\n",
       "      <td>1.3e+07</td>\n",
       "      <td>3.6e+06</td>\n",
       "      <td>6.8e+06</td>\n",
       "      <td>1.7e+06</td>\n",
       "      <td>3.6e+07</td>\n",
       "    </tr>\n",
       "    <tr>\n",
       "      <th rowspan=\"2\" valign=\"top\">expt_6-2C02-400-escape</th>\n",
       "      <th>lib1</th>\n",
       "      <td>1.4e+06</td>\n",
       "      <td>8.4e+05</td>\n",
       "      <td>1.9e+06</td>\n",
       "      <td>3.2e+05</td>\n",
       "      <td>1.6e+07</td>\n",
       "    </tr>\n",
       "    <tr>\n",
       "      <th>lib2</th>\n",
       "      <td>1.5e+06</td>\n",
       "      <td>7.2e+05</td>\n",
       "      <td>1.9e+06</td>\n",
       "      <td>4.9e+05</td>\n",
       "      <td>1.6e+07</td>\n",
       "    </tr>\n",
       "  </tbody>\n",
       "</table>"
      ],
      "text/plain": [
       "<IPython.core.display.HTML object>"
      ]
     },
     "metadata": {},
     "output_type": "display_data"
    }
   ],
   "source": [
    "display(HTML(fates\n",
    "             .pivot_table(columns='fate',\n",
    "                          values='count',\n",
    "                          index=['sample', 'library'])\n",
    "             .applymap('{:.1e}'.format)  # scientific notation\n",
    "             .to_html()\n",
    "             ))"
   ]
  },
  {
   "cell_type": "markdown",
   "metadata": {},
   "source": [
    "Now we plot the barcode-read fates for each library / sample, showing the bars for valid barcodes in orange and the others in gray.\n",
    "We see that the largest fraction of barcode reads correspond to valid barcodes, and most of the others are invalid barcodes (probably because the map to variants that aren't present in our variant table since we didn't associate all variants with barcodes). The exception to this is lib2 Titeseq_03_bin3; the PCR for this sample in the original sequencing run failed, so we followed it up with a single MiSeq lane. We did not filter out the PhiX reads from this data before parsing, so these PhiX reads will deflate the fraction of valid barcode reads as expected, but does not indicate any problems."
   ]
  },
  {
   "cell_type": "code",
   "execution_count": 18,
   "metadata": {
    "execution": {
     "iopub.execute_input": "2020-09-25T16:45:44.631733Z",
     "iopub.status.busy": "2020-09-25T16:45:44.630210Z",
     "iopub.status.idle": "2020-09-25T16:45:46.312300Z",
     "shell.execute_reply": "2020-09-25T16:45:46.313282Z"
    }
   },
   "outputs": [
    {
     "data": {
      "image/png": "[encoded data removed]",
      "text/plain": [
       "<Figure size 1300x800 with 14 Axes>"
      ]
     },
     "metadata": {
      "needs_background": "light"
     },
     "output_type": "display_data"
    }
   ],
   "source": [
    "ncol = 4\n",
    "nfacets = len(fates.groupby(['sample', 'library']))\n",
    "\n",
    "barcode_fate_plot = (\n",
    "    ggplot(\n",
    "        fates\n",
    "        .assign(sample=lambda x: pd.Categorical(x['sample'],\n",
    "                                                x['sample'].unique(),\n",
    "                                                ordered=True),\n",
    "                fate=lambda x: pd.Categorical(x['fate'],\n",
    "                                              x['fate'].unique(),\n",
    "                                              ordered=True),\n",
    "                is_valid=lambda x: x['fate'] == 'valid barcode'\n",
    "                ), \n",
    "        aes('fate', 'count', fill='is_valid')) +\n",
    "    geom_bar(stat='identity') +\n",
    "    facet_wrap('~ sample + library', ncol=ncol) +\n",
    "    scale_fill_manual(CBPALETTE, guide=False) +\n",
    "    theme(figure_size=(3.25 * ncol, 2 * math.ceil(nfacets / ncol)),\n",
    "          axis_text_x=element_text(angle=90),\n",
    "          panel_grid_major_x=element_blank()\n",
    "          ) +\n",
    "    scale_y_continuous(labels=dms_variants.utils.latex_sci_not,\n",
    "                       name='number of reads')\n",
    "    )\n",
    "\n",
    "_ = barcode_fate_plot.draw()"
   ]
  },
  {
   "cell_type": "markdown",
   "metadata": {},
   "source": [
    "## Add barcode counts to variant table\n",
    "Now we use the [CodonVariantTable.add_sample_counts_df](https://jbloomlab.github.io/dms_variants/dms_variants.codonvarianttable.html#dms_variants.codonvarianttable.CodonVariantTable.add_sample_counts_df) method to add the barcode counts to the variant table:"
   ]
  },
  {
   "cell_type": "code",
   "execution_count": 19,
   "metadata": {
    "execution": {
     "iopub.execute_input": "2020-09-25T16:45:46.363875Z",
     "iopub.status.busy": "2020-09-25T16:45:46.362924Z",
     "iopub.status.idle": "2020-09-25T16:45:49.396649Z",
     "shell.execute_reply": "2020-09-25T16:45:49.395529Z"
    }
   },
   "outputs": [],
   "source": [
    "variants.add_sample_counts_df(counts)"
   ]
  },
  {
   "cell_type": "markdown",
   "metadata": {},
   "source": [
    "The variant table now has a `variant_count_df` attribute that gives a data frame of all the variant counts.\n",
    "Here are the first few lines:"
   ]
  },
  {
   "cell_type": "code",
   "execution_count": 20,
   "metadata": {
    "execution": {
     "iopub.execute_input": "2020-09-25T16:45:49.405569Z",
     "iopub.status.busy": "2020-09-25T16:45:49.404614Z",
     "iopub.status.idle": "2020-09-25T16:45:49.408138Z",
     "shell.execute_reply": "2020-09-25T16:45:49.409075Z"
    }
   },
   "outputs": [
    {
     "data": {
      "text/html": [
       "<table border=\"1\" class=\"dataframe\">\n",
       "  <thead>\n",
       "    <tr style=\"text-align: right;\">\n",
       "      <th>target</th>\n",
       "      <th>library</th>\n",
       "      <th>sample</th>\n",
       "      <th>barcode</th>\n",
       "      <th>count</th>\n",
       "      <th>variant_call_support</th>\n",
       "      <th>codon_substitutions</th>\n",
       "      <th>aa_substitutions</th>\n",
       "      <th>n_codon_substitutions</th>\n",
       "      <th>n_aa_substitutions</th>\n",
       "    </tr>\n",
       "  </thead>\n",
       "  <tbody>\n",
       "    <tr>\n",
       "      <td>BM48-31</td>\n",
       "      <td>lib1</td>\n",
       "      <td>expt_17-19-none-0-reference</td>\n",
       "      <td>CATGAAACGCCAACTT</td>\n",
       "      <td>221</td>\n",
       "      <td>9</td>\n",
       "      <td>BM48-31</td>\n",
       "      <td>BM48-31</td>\n",
       "      <td>0</td>\n",
       "      <td>0</td>\n",
       "    </tr>\n",
       "    <tr>\n",
       "      <td>BM48-31</td>\n",
       "      <td>lib1</td>\n",
       "      <td>expt_17-19-none-0-reference</td>\n",
       "      <td>GACACCCTGAATCTCA</td>\n",
       "      <td>130</td>\n",
       "      <td>6</td>\n",
       "      <td>BM48-31</td>\n",
       "      <td>BM48-31</td>\n",
       "      <td>0</td>\n",
       "      <td>0</td>\n",
       "    </tr>\n",
       "    <tr>\n",
       "      <td>BM48-31</td>\n",
       "      <td>lib1</td>\n",
       "      <td>expt_17-19-none-0-reference</td>\n",
       "      <td>CTACCAAGGATGCTAT</td>\n",
       "      <td>90</td>\n",
       "      <td>4</td>\n",
       "      <td>BM48-31</td>\n",
       "      <td>BM48-31</td>\n",
       "      <td>0</td>\n",
       "      <td>0</td>\n",
       "    </tr>\n",
       "    <tr>\n",
       "      <td>BM48-31</td>\n",
       "      <td>lib1</td>\n",
       "      <td>expt_17-19-none-0-reference</td>\n",
       "      <td>AAGATCAAAAAAAAAA</td>\n",
       "      <td>69</td>\n",
       "      <td>1</td>\n",
       "      <td>BM48-31</td>\n",
       "      <td>BM48-31</td>\n",
       "      <td>0</td>\n",
       "      <td>0</td>\n",
       "    </tr>\n",
       "    <tr>\n",
       "      <td>BM48-31</td>\n",
       "      <td>lib1</td>\n",
       "      <td>expt_17-19-none-0-reference</td>\n",
       "      <td>CGATGAATTCAGCTCT</td>\n",
       "      <td>69</td>\n",
       "      <td>12</td>\n",
       "      <td>BM48-31</td>\n",
       "      <td>BM48-31</td>\n",
       "      <td>0</td>\n",
       "      <td>0</td>\n",
       "    </tr>\n",
       "  </tbody>\n",
       "</table>"
      ],
      "text/plain": [
       "<IPython.core.display.HTML object>"
      ]
     },
     "metadata": {},
     "output_type": "display_data"
    }
   ],
   "source": [
    "display(HTML(variants.variant_count_df.head().to_html(index=False)))"
   ]
  },
  {
   "cell_type": "markdown",
   "metadata": {},
   "source": [
    "Write the variant counts data frame to a CSV file.\n",
    "It can then be used to re-initialize a [CodonVariantTable](https://jbloomlab.github.io/dms_variants/dms_variants.codonvarianttable.html#dms_variants.codonvarianttable.CodonVariantTable) via its [from_variant_count_df](https://jbloomlab.github.io/dms_variants/dms_variants.codonvarianttable.html#dms_variants.codonvarianttable.CodonVariantTable.from_variant_count_df) method:"
   ]
  },
  {
   "cell_type": "code",
   "execution_count": 21,
   "metadata": {
    "execution": {
     "iopub.execute_input": "2020-09-25T16:45:49.414572Z",
     "iopub.status.busy": "2020-09-25T16:45:49.413597Z",
     "iopub.status.idle": "2020-09-25T16:45:53.601335Z",
     "shell.execute_reply": "2020-09-25T16:45:53.602126Z"
    }
   },
   "outputs": [
    {
     "name": "stdout",
     "output_type": "stream",
     "text": [
      "Writing variant counts to results/counts/variant_counts.csv\n"
     ]
    }
   ],
   "source": [
    "print(f\"Writing variant counts to {config['variant_counts']}\")\n",
    "variants.variant_count_df.to_csv(config['variant_counts'], index=False)"
   ]
  },
  {
   "cell_type": "markdown",
   "metadata": {},
   "source": [
    "The [CodonVariantTable](https://jbloomlab.github.io/dms_variants/dms_variants.codonvarianttable.html#dms_variants.codonvarianttable.CodonVariantTable) has lots of nice functions that can be used to analyze the counts it contains.\n",
    "However, we do that in the next notebook so we don't have to re-run this entire (rather computationally intensive) notebook every time we want to analyze a new aspect of the counts."
   ]
  }
 ],
 "metadata": {
  "kernelspec": {
   "display_name": "Python 3",
   "language": "python",
   "name": "python3"
  },
  "language_info": {
   "codemirror_mode": {
    "name": "ipython",
    "version": 3
   },
   "file_extension": ".py",
   "mimetype": "text/x-python",
   "name": "python",
   "nbconvert_exporter": "python",
   "pygments_lexer": "ipython3",
   "version": "3.7.8"
  },
  "toc": {
   "base_numbering": 1,
   "nav_menu": {},
   "number_sections": false,
   "sideBar": true,
   "skip_h1_title": false,
   "title_cell": "Table of Contents",
   "title_sidebar": "Contents",
   "toc_cell": true,
   "toc_position": {},
   "toc_section_display": true,
   "toc_window_display": true
  }
 },
 "nbformat": 4,
 "nbformat_minor": 4
}
